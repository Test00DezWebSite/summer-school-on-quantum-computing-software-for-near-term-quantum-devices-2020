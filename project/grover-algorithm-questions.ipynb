{
 "cells": [
  {
   "cell_type": "code",
   "execution_count": 1,
   "metadata": {},
   "outputs": [
    {
     "data": {
      "text/html": [
       "<style>.container { width:100% !important; }</style>"
      ],
      "text/plain": [
       "<IPython.core.display.HTML object>"
      ]
     },
     "metadata": {},
     "output_type": "display_data"
    }
   ],
   "source": [
    "# Expand the Width of the Cells to a ratio of 100%\n",
    "from IPython.core.display import display, HTML\n",
    "display(HTML(\"<style>.container { width:100% !important; }</style>\"))"
   ]
  },
  {
   "cell_type": "markdown",
   "metadata": {
    "slideshow": {
     "slide_type": "slide"
    }
   },
   "source": [
    "# **Grover's Algorithm and Quantum Search with N = 2, 3, 4 Qubits**"
   ]
  },
  {
   "cell_type": "markdown",
   "metadata": {
    "slideshow": {
     "slide_type": "-"
    }
   },
   "source": [
    "## **Summer School on Quantum Computing: Software for Near Term Quantum Devices 2020**\n",
    "### **(August 31, 2020 - September 4, 2020)**\n",
    "\n",
    "<br>\n",
    "\n",
    "#### **Professors/Evaluators:**\n",
    "* [**Diego Porras Torre**](mailto:d.porras@iff.csic.es)\n",
    "* [**Juan José García Ripolli**](mailto:juanjose.garcia.ripoll@csic.es)\n",
    "\n",
    "#### **Students (Team 4):**\n",
    "* [**Gustavo del Val Garcia**]()\n",
    "* [**Lucía Vílchez Estévez**]()\n",
    "* [**María Hita Pérez**]()\n",
    "* [**Rúben André Barreiro**](mailto:ruben.andre.letra.barreito@gmail.com)\n",
    "\n",
    "<br>\n",
    "\n",
    "##### **Notes:**\n",
    "* This [**Jupyter Notebook**](https://jupyter.org/) was initially provided by [**Diego Porras Torre**](mailto:d.porras@iff.csic.es) and [**Juan José García Ripolli**](mailto:juanjose.garcia.ripoll@csic.es), during the **Summer School on Quantum Computing: Software for Near Term Quantum Devices 2020**, offered by [**UIMP (Universidad Internacional Menéndez Pelayo)**](http://www.uimp.es/) and [**CSIC (Consejo Superior de Investigaciones Científicas)**](https://www.csic.es/) and modified by the students assigned to this **Quantum Computing Project** ([**Rúben André Barreiro**](mailto:ruben.andre.letra.barreito@gmail.com)).\n",
    "* The **Graphical Illustrations/Animations** are courtesy of [**Rúben André Barreiro**](mailto:ruben.andre.letra.barreito@gmail.com), as a part of [**Learning Quantum Computing**](https://learning-quantum-computing.github.io/), and [**Tutorial on the Grover Algorithm, by IBM's Qiskit**](https://qiskit.org/textbook/ch-algorithms/grover.html).\n",
    "* The **Scripts**, written in **Python Programming Language**, used to draw the **Animations** of the [**Bloch Spheres**](https://en.wikipedia.org/wiki/Bloch_sphere) in [**QuTiP**](http://qutip.org/), are also courtesy of [**Rúben André Barreiro**](mailto:ruben.andre.letra.barreito@gmail.com), as a part of [**Learning Quantum Computing**](https://learning-quantum-computing.github.io/)."
   ]
  },
  {
   "cell_type": "markdown",
   "metadata": {
    "slideshow": {
     "slide_type": "slide"
    }
   },
   "source": [
    "## **Introduction**"
   ]
  },
  {
   "cell_type": "markdown",
   "metadata": {
    "slideshow": {
     "slide_type": "-"
    }
   },
   "source": [
    "This excercise deals with the implementation of [**Grover's Algorithm**](https://en.wikipedia.org/wiki/Grover%27s_algorithm) with [**Qiskit**](https://qiskit.org/). We will consider $n = 2, 3, 4$ **Qubits**, which allows to deal with $2^n$ **Entries/States**.\n",
    "\n",
    "A nice explanation of the **Algorithm** and its implementation with [**Qiskit**](https://qiskit.org/) can be found here:\n",
    "\n",
    "* [**https://qiskit.org/textbook/ch-algorithms/grover.html**](https://qiskit.org/textbook/ch-algorithms/grover.html)\n",
    "\n",
    "<br>\n",
    "\n",
    "This notebook builds on the documentation above. It has moslty a pedagogical value:\n",
    "\n",
    "* It helps clarifying the main working principles of the **Algorithm**, as well as the difficulties found when implementing **Oracle** and **Inversion Operators** in practice. \n",
    "\n",
    "<br>\n",
    "\n",
    "The [**Grover's Algorithm**](https://en.wikipedia.org/wiki/Grover%27s_algorithm) will be also explained in [**Diego Porras**](mailto:d.porras@iff.csic.es)' lecture on the first school day. This **Algorithm** relies on the application of the **Grover's Operator**:\n",
    "\n",
    "* $ G = (2 |\\psi\\rangle \\langle \\psi | - I) O $,\n",
    "\n",
    "    where $O$ is the so-called **Oracle Operator**, and $(2 |\\psi\\rangle \\langle \\psi | - I)$ is the **Inversion Operator**.\n",
    "\n",
    "The joint action of those **Operators** lead to the [**Amplitude Amplification Effect**](https://en.wikipedia.org/wiki/Amplitude_amplification) that is the basis for **Quantum Search**.\n",
    "\n",
    "To fully understand the **Algorithm**, you can either wait for [**Diego**](mailto:d.porras@iff.csic.es)'s talk, or read the [**Qiskit**](https://qiskit.org/) documentation above. The basis of the **Algorithm** is the **Multi-Qubit** [**Controlled-Z Gate**](https://qiskit.org/documentation/stubs/qiskit.circuit.library.CZGate.html#qiskit.circuit.library.CZGate), which is somehow independent of the details of [**Grover's Algorithm**](https://en.wikipedia.org/wiki/Grover%27s_algorithm)."
   ]
  },
  {
   "cell_type": "markdown",
   "metadata": {
    "slideshow": {
     "slide_type": "slide"
    }
   },
   "source": [
    "## **Environment's Setup**"
   ]
  },
  {
   "cell_type": "code",
   "execution_count": 2,
   "metadata": {
    "slideshow": {
     "slide_type": "-"
    }
   },
   "outputs": [
    {
     "name": "stdout",
     "output_type": "stream",
     "text": [
      "Collecting package metadata (current_repodata.json): done\n",
      "Solving environment: done\n",
      "\n",
      "\n",
      "==> WARNING: A newer version of conda exists. <==\n",
      "  current version: 4.8.2\n",
      "  latest version: 4.8.4\n",
      "\n",
      "Please update conda by running\n",
      "\n",
      "    $ conda update -n base conda\n",
      "\n",
      "\n",
      "\n",
      "## Package Plan ##\n",
      "\n",
      "  environment location: /opt/conda\n",
      "\n",
      "  added / updated specs:\n",
      "    - conda\n",
      "\n",
      "\n",
      "The following packages will be REMOVED:\n",
      "\n",
      "  joblib-0.16.0-py_0\n",
      "\n",
      "\n",
      "Preparing transaction: done\n",
      "Verifying transaction: done\n",
      "Executing transaction: done\n"
     ]
    }
   ],
   "source": [
    "# Update, the Conda's version, if necessary\n",
    "!conda update -n base conda --yes"
   ]
  },
  {
   "cell_type": "code",
   "execution_count": 3,
   "metadata": {
    "slideshow": {
     "slide_type": "-"
    }
   },
   "outputs": [
    {
     "name": "stdout",
     "output_type": "stream",
     "text": [
      "Collecting package metadata (current_repodata.json): done\n",
      "Solving environment: done\n",
      "\n",
      "\n",
      "==> WARNING: A newer version of conda exists. <==\n",
      "  current version: 4.8.2\n",
      "  latest version: 4.8.4\n",
      "\n",
      "Please update conda by running\n",
      "\n",
      "    $ conda update -n base conda\n",
      "\n",
      "\n",
      "\n",
      "# All requested packages already installed.\n",
      "\n"
     ]
    }
   ],
   "source": [
    "# Install other useful Libraries for Quantum Information Science,\n",
    "# the QuTiP Framework, in this case, based on Python Programming Language\n",
    "!conda install qutip --yes"
   ]
  },
  {
   "cell_type": "code",
   "execution_count": 4,
   "metadata": {
    "slideshow": {
     "slide_type": "-"
    }
   },
   "outputs": [],
   "source": [
    "# Import the matplotlib Library\n",
    "import matplotlib.pyplot as plt\n",
    "%matplotlib inline"
   ]
  },
  {
   "cell_type": "code",
   "execution_count": 5,
   "metadata": {
    "slideshow": {
     "slide_type": "-"
    }
   },
   "outputs": [],
   "source": [
    "# Import the NumPy and Math Libraries,\n",
    "# based on Python Programming Language\n",
    "import numpy as np\n",
    "import math"
   ]
  },
  {
   "cell_type": "code",
   "execution_count": 6,
   "metadata": {
    "slideshow": {
     "slide_type": "-"
    }
   },
   "outputs": [],
   "source": [
    "# Import some basic Modules from Qiskit Library and configuring account\n",
    "from qiskit import IBMQ, BasicAer\n",
    "from qiskit import QuantumCircuit, execute, Aer, IBMQ, QuantumRegister, ClassicalRegister\n",
    "from qiskit.compiler import transpile, assemble\n",
    "from qiskit.providers.ibmq import least_busy\n",
    "from qiskit.tools.jupyter import *\n",
    "from qiskit.visualization import *"
   ]
  },
  {
   "cell_type": "code",
   "execution_count": 7,
   "metadata": {
    "slideshow": {
     "slide_type": "-"
    }
   },
   "outputs": [],
   "source": [
    "# Import some basic Visualization/Plot Modules/Tools from Qiskit Library\n",
    "from qiskit.tools.visualization import plot_histogram"
   ]
  },
  {
   "cell_type": "code",
   "execution_count": 8,
   "metadata": {},
   "outputs": [],
   "source": [
    "# In Jupyter Notebooks we can display this nicely using Latex.\n",
    "# If not using Jupyter Notebooks you may need to remove the \n",
    "# array_to_latex function and use print() instead.\n",
    "from qiskit_textbook.tools import array_to_latex"
   ]
  },
  {
   "cell_type": "markdown",
   "metadata": {
    "slideshow": {
     "slide_type": "slide"
    }
   },
   "source": [
    "## **The Multi-Qubit Controlled-Z Gate**"
   ]
  },
  {
   "cell_type": "markdown",
   "metadata": {},
   "source": [
    "The backbone of [**Grover's Algorithm**](https://en.wikipedia.org/wiki/Grover%27s_algorithm) is the **Multi-Qubit** [**Controlled-Z Gate**](https://qiskit.org/documentation/stubs/qiskit.circuit.library.CZGate.html#qiskit.circuit.library.CZGate)."
   ]
  },
  {
   "cell_type": "markdown",
   "metadata": {},
   "source": [
    "In order to understand this **Controlled Quantum Gate** well, let's introduce other important **Quantum Gates**, enumerated as the following:"
   ]
  },
  {
   "cell_type": "markdown",
   "metadata": {},
   "source": [
    "* [**X-Gate**](https://qiskit.org/textbook/ch-states/single-qubit-gates.html#xgate)**:**\n",
    "    * The [**X-Gate**](https://qiskit.org/textbook/ch-states/single-qubit-gates.html#xgate) is represented by the [**Pauli-X Matrix**](https://en.wikipedia.org/wiki/Quantum_logic_gate#Pauli-X_gate):\n",
    "    \n",
    "    <br>\n",
    "    <br>\n",
    "    \n",
    "        * $ Pauli-X = \\sigma_{1} = \\sigma_{x} = R_{X_{(\\pi)}} = \\begin{bmatrix} 0 & 1 \\\\ 1 & 0 \\end{bmatrix} = |0⟩⟨1|+|1⟩⟨0| $\n",
    "    \n",
    "    <br>\n",
    "    \n",
    "    * Acts on **only (one) single** **Qubit**.\n",
    "    \n",
    "    <br>\n",
    "    \n",
    "    * **Rotates** (or **flips**) the **Qubit** **180° (π radians) C.C.W. Counter Clockwise** around the **X-Axis** of the **Bloch Sphere**.\n",
    "    \n",
    "    <br>\n",
    "\n",
    "    * It's represented graphically, in **Quantum Systems** and **Quantum Circuits**, as demonstrated following:\n",
    "    \n",
    "    <br>\n",
    "        \n",
    "        <img src=\"https://learning-quantum-computing.github.io/course/core-2-introduction-to-quantum-computing/week-7-the-fundamentals-of-quantum-computing/assets/images/schemes/logic-gates/quantum-logic-gates/PNGs/quantum-pauli-x-gate-1.png\" alt=\"X-Gate\" width=\"25%\">\n",
    "    \n",
    "    <br>\n",
    "\n",
    "    * It's equivalent to the [**Classical NOT Gate (Inverter)**](https://en.wikipedia.org/wiki/Inverter_(logic_gate)), when applied to the **Classical Computational Basis** (i.e., $ |0⟩ $ and $ |1⟩ $):\n",
    "\n",
    "    <br>\n",
    "        \n",
    "        <img src=\"https://learning-quantum-computing.github.io/course/core-2-introduction-to-quantum-computing/week-7-the-fundamentals-of-quantum-computing/assets/images/schemes/logic-gates/classical-logic-gates/PNGs/classical-not-gate-1.png\" alt=\"Classical NOT Gate (Inverser)\" width=\"35%\">\n",
    "    \n",
    "    <br>\n",
    "\n",
    "    * To see the effect of this [**X-Gate**](https://qiskit.org/textbook/ch-states/single-qubit-gates.html#xgate) has on a **Qubit**, we simply multiply the **Qubit**’s **statevector** by the [**Pauli-X Matrix**](https://en.wikipedia.org/wiki/Quantum_logic_gate#Pauli-X_gate) representing the [**X-Gate**](https://qiskit.org/textbook/ch-states/single-qubit-gates.html#xgate).\n",
    "    \n",
    "    <br>\n",
    "    \n",
    "    * We can see that the [**X-Gate**](https://qiskit.org/textbook/ch-states/single-qubit-gates.html#xgate) switches the **Amplitudes** of the states $ |0⟩ $ and $ |1⟩ $:\n",
    "    \n",
    "    <br>\n",
    "    \n",
    "        * $ X|0⟩ = \\begin{bmatrix} 0 & 1 \\\\ 1 & 0 \\end{bmatrix} \\times \\begin{bmatrix} 1 \\\\ 0 \\end{bmatrix} = \\begin{bmatrix} 0 \\\\ 1 \\end{bmatrix} = |1⟩ $\n",
    "        \n",
    "    <br>\n",
    "    \n",
    "        * $ X|1⟩ = \\begin{bmatrix} 0 & 1 \\\\ 1 & 0 \\end{bmatrix} \\times \\begin{bmatrix} 0 \\\\ 1 \\end{bmatrix} = \\begin{bmatrix} 1 \\\\ 0 \\end{bmatrix} = |0⟩ $\n",
    "    \n",
    "    <br>\n",
    "    <br>\n",
    "    \n",
    "    * And, in that cases, [**X-Gate**](https://qiskit.org/textbook/ch-states/single-qubit-gates.html#xgate) have the following behaviour, in the [**Bloch Sphere**](https://en.wikipedia.org/wiki/Bloch_sphere) and in **Histogram** representing the **Probabilities of Measurement** (i.e., the **Square Value of the Modulus of the Amplitudes**) of the **Qubit**:\n",
    "        \n",
    "        <br>\n",
    "        \n",
    "        * $ |0⟩ \\rightarrow |1⟩ $:\n",
    "            \n",
    "            <br>\n",
    "\n",
    "            <img src=\"https://learning-quantum-computing.github.io/course/core-2-introduction-to-quantum-computing/week-7-the-fundamentals-of-quantum-computing/assets/images/animations/bloch_sphere_animation_pauli_x_quantum_logic_gate_operator_from_ground_state.gif\" alt=\"Behavior of X-Gate applied to the Computational Basis |0⟩, in the Bloch Sphere\" width=\"25%\">\n",
    "            <img src=\"https://learning-quantum-computing.github.io/course/core-2-introduction-to-quantum-computing/week-7-the-fundamentals-of-quantum-computing/assets/images/animations/histogram_animation_pauli_x_quantum_logic_gate_operator_from_ground_state.gif\" alt=\"Behavior of X-Gate applied to the Computational Basis |0⟩, in the Amplitudes' Histogram\" width=\"50%\">\n",
    "            \n",
    "        <br>\n",
    "        \n",
    "        * $ |1⟩ \\rightarrow |0⟩ $:\n",
    "            \n",
    "            <br>\n",
    "\n",
    "            <img src=\"https://learning-quantum-computing.github.io/course/core-2-introduction-to-quantum-computing/week-7-the-fundamentals-of-quantum-computing/assets/images/animations/bloch_sphere_animation_pauli_x_quantum_logic_gate_operator_from_excited_state.gif\" alt=\"Behavior of X-Gate applied to the Computational Basis |1⟩\" width=\"25%\">\n",
    "            <img src=\"https://learning-quantum-computing.github.io/course/core-2-introduction-to-quantum-computing/week-7-the-fundamentals-of-quantum-computing/assets/images/animations/histogram_animation_pauli_x_quantum_logic_gate_operator_from_excited_state.gif\" alt=\"Behavior of X-Gate applied to the Computational Basis |1⟩, in the Amplitudes' Histogram\" width=\"50%\">"
   ]
  },
  {
   "cell_type": "code",
   "execution_count": null,
   "metadata": {},
   "outputs": [],
   "source": []
  },
  {
   "cell_type": "markdown",
   "metadata": {},
   "source": [
    "* [**Z-Gate**](https://qiskit.org/textbook/ch-states/single-qubit-gates.html#zgate)**:**\n",
    "    * The [**Z-Gate**](https://qiskit.org/textbook/ch-states/single-qubit-gates.html#zgate) is represented by the [**Pauli-Z Matrix**](https://en.wikipedia.org/wiki/Quantum_logic_gate#Pauli-Z_('%22%60UNIQ--postMath-00000028-QINU%60%22')_gate): \n",
    "    \n",
    "    * $ Pauli-Z = \\sigma_{3} = \\sigma_{z} = R_{Z_{(\\pi)}} = \\begin{bmatrix} 1 & 0 \\\\ 0 & -1 \\end{bmatrix} = |0⟩⟨0|−|1⟩⟨1| $\n",
    "    \n",
    "    <br>\n",
    "    \n",
    "    * Acts on **only (one) single** **Qubit**.\n",
    "    \n",
    "    <br>\n",
    "    \n",
    "    * **Rotates** (or **flips**) the **Qubit** **180° (π radians) C.C.W. Counter Clockwise** around the **Z-Axis** of the **Bloch Sphere**.\n",
    "    \n",
    "    <br>\n",
    "    \n",
    "    * It's a **\"special case\"** of a **Phase Shift Quantum Gate**, with $ \\phi = \\pi $;\n",
    "    \n",
    "    <br>\n",
    "\n",
    "    * It's represented graphically, in **Quantum Systems** and **Quantum Circuits**, as demonstrated following:\n",
    "    \n",
    "    <br>\n",
    "        \n",
    "        <img src=\"https://learning-quantum-computing.github.io/course/core-2-introduction-to-quantum-computing/week-7-the-fundamentals-of-quantum-computing/assets/images/schemes/logic-gates/quantum-logic-gates/PNGs/quantum-pauli-z-gate-1.png\" alt=\"Z-Gate\" width=\"25%\">\n",
    "    \n",
    "    <br>\n",
    "    \n",
    "    * To see the effect of this [**Z-Gate**](https://qiskit.org/textbook/ch-states/single-qubit-gates.html#1.2-The-Y-&-Z-gates--) has on a **Qubit**, we simply multiply the **Qubit**’s **statevector** by the [**Pauli-Z Matrix**](https://en.wikipedia.org/wiki/Quantum_logic_gate#Pauli-Z_('%22%60UNIQ--postMath-00000028-QINU%60%22')_gate) representing the [**Z-Gate**](https://qiskit.org/textbook/ch-states/single-qubit-gates.html#1.2-The-Y-&-Z-gates--).\n",
    "    \n",
    "    <br>\n",
    "    \n",
    "    * The [**Z-Gate**](https://qiskit.org/textbook/ch-states/single-qubit-gates.html#1.2-The-Y-&-Z-gates--) have practically no effect when applied to the **Classical Computational Basis** $ |0⟩ $:\n",
    "    \n",
    "    <br>\n",
    "    \n",
    "        * $ |0⟩ \\rightarrow |0⟩ $:\n",
    "        \n",
    "            <br>\n",
    "        \n",
    "            * $ Z|0⟩ = \\begin{bmatrix} 1 & 0 \\\\ 0 & -1 \\end{bmatrix} \\times \\begin{bmatrix} 1 \\\\ 0 \\end{bmatrix} = \\begin{bmatrix} 1 \\\\ 0 \\end{bmatrix} = |0⟩ $ \n",
    "       \n",
    "    <br>\n",
    "    <br>\n",
    "    \n",
    "    * But, the [**Z-Gate**](https://qiskit.org/textbook/ch-states/single-qubit-gates.html#1.2-The-Y-&-Z-gates--) have a slightly different effect when applied to the **Classical Computational Basis** $ |1⟩ $:\n",
    "    \n",
    "    <br>\n",
    "    \n",
    "        * $ |1⟩ \\rightarrow -|1⟩ $:\n",
    "        \n",
    "            <br>\n",
    "        \n",
    "            * $ Z \\times |1⟩ = \\begin{bmatrix} 1 & 0 \\\\ 0 & -1 \\end{bmatrix} \\times \\begin{bmatrix} 0 \\\\ 1 \\end{bmatrix} = \\begin{bmatrix} 0 \\\\ -1 \\end{bmatrix} = -|1⟩ $ \n",
    "        \n",
    "        <br>\n",
    "        \n",
    "        * $ -|1⟩ \\rightarrow |1⟩ $:\n",
    "        \n",
    "            <br>\n",
    "        \n",
    "            * $ Z \\times -|1⟩ = \\begin{bmatrix} 1 & 0 \\\\ 0 & -1 \\end{bmatrix} \\times \\begin{bmatrix} 0 \\\\ -1 \\end{bmatrix} = \\begin{bmatrix} 0 \\\\ 1 \\end{bmatrix} = |1⟩ $ \n",
    "    \n",
    "    <br>\n",
    "    <br>\n",
    "    \n",
    "    * We can see that the [**Z-Gate**](https://qiskit.org/textbook/ch-states/single-qubit-gates.html#1.2-The-Y-&-Z-gates--) switches the **Phases** of the states $ |+⟩ $, $ |+i⟩ $, $ |-⟩ $ and $ |-i⟩ $:\n",
    "    \n",
    "    <br>\n",
    "    \n",
    "        * $ Z|+⟩ = \\begin{bmatrix} 1 & 0 \\\\ 0 & -1 \\end{bmatrix} \\times \\begin{bmatrix} \\frac{1}{\\sqrt{2}} \\\\ \\frac{1}{\\sqrt{2}} \\end{bmatrix} = \\begin{bmatrix} \\frac{1}{\\sqrt{2}} \\\\ -\\frac{1}{\\sqrt{2}} \\end{bmatrix} = |-⟩ $\n",
    "        \n",
    "    <br>\n",
    "    \n",
    "        * $ Z|+i⟩ = \\begin{bmatrix} 1 & 0 \\\\ 0 & -1 \\end{bmatrix} \\times \\begin{bmatrix} \\frac{1}{\\sqrt{2}} \\\\ \\frac{i}{\\sqrt{2}} \\end{bmatrix} = \\begin{bmatrix} \\frac{1}{\\sqrt{2}} \\\\ \\frac{-i}{\\sqrt{2}}\\end{bmatrix} = |-i⟩ $\n",
    "        \n",
    "    <br>\n",
    "    \n",
    "        * $ Z|-⟩ = \\begin{bmatrix} 1 & 0 \\\\ 0 & -1 \\end{bmatrix} \\times \\begin{bmatrix} \\frac{1}{\\sqrt{2}} \\\\ -\\frac{1}{\\sqrt{2}} \\end{bmatrix} = \\begin{bmatrix} \\frac{1}{\\sqrt{2}} \\\\ \\frac{1}{\\sqrt{2}} \\end{bmatrix} = |+⟩ $\n",
    "        \n",
    "    <br>\n",
    "    \n",
    "        * $ Z|-i⟩ = \\begin{bmatrix} 1 & 0 \\\\ 0 & -1 \\end{bmatrix} \\times \\begin{bmatrix} \\frac{1}{\\sqrt{2}} \\\\ -\\frac{i}{\\sqrt{2}} \\end{bmatrix} = \\begin{bmatrix} \\frac{1}{\\sqrt{2}} \\\\ \\frac{i}{\\sqrt{2}} \\end{bmatrix} = |+i⟩ $\n",
    "    \n",
    "    <br>\n",
    "    <br>\n",
    "    \n",
    "    * And, in that cases, [**Z-Gate**](https://qiskit.org/textbook/ch-states/single-qubit-gates.html#1.2-The-Y-&-Z-gates--) have the following behaviour, in the [**Bloch Sphere**](https://en.wikipedia.org/wiki/Bloch_sphere) of the **Qubit**:\n",
    "        \n",
    "        <br>\n",
    "        \n",
    "        * $ |+⟩ \\rightarrow |-⟩ $:\n",
    "            \n",
    "            <br>\n",
    "\n",
    "            <img src=\"https://learning-quantum-computing.github.io/course/core-2-introduction-to-quantum-computing/week-7-the-fundamentals-of-quantum-computing/assets/images/animations/bloch_sphere_animation_pauli_z_quantum_logic_gate_operator_from_plus_state.gif\" alt=\"Behavior of Z-Gate applied to the Hadamard Basis |+⟩, in the Bloch Sphere\" width=\"25%\">\n",
    "            \n",
    "        <br>\n",
    "        \n",
    "        * $ |+i⟩ \\rightarrow |-i⟩ $:\n",
    "            \n",
    "            <br>\n",
    "\n",
    "            <img src=\"https://learning-quantum-computing.github.io/course/core-2-introduction-to-quantum-computing/week-7-the-fundamentals-of-quantum-computing/assets/images/animations/bloch_sphere_animation_pauli_z_quantum_logic_gate_operator_from_img_state.gif\" alt=\"Behavior of Z-Gate applied to the Hadamard Basis |+i⟩\" width=\"25%\">\n",
    "            \n",
    "        <br>\n",
    "        \n",
    "        * $ |-⟩ \\rightarrow |+⟩ $:\n",
    "            \n",
    "            <br>\n",
    "\n",
    "            <img src=\"https://learning-quantum-computing.github.io/course/core-2-introduction-to-quantum-computing/week-7-the-fundamentals-of-quantum-computing/assets/images/animations/bloch_sphere_animation_pauli_z_quantum_logic_gate_operator_from_minus_state.gif\" alt=\"Behavior of Z-Gate applied to the Hadamard Basis |-⟩\" width=\"25%\">\n",
    "            \n",
    "        <br>\n",
    "        \n",
    "        * $ |-i⟩ \\rightarrow |+i⟩ $:\n",
    "            \n",
    "            <br>\n",
    "\n",
    "            <img src=\"https://learning-quantum-computing.github.io/course/core-2-introduction-to-quantum-computing/week-7-the-fundamentals-of-quantum-computing/assets/images/animations/bloch_sphere_animation_pauli_z_quantum_logic_gate_operator_from_neg_img_state.gif\" alt=\"Behavior of X-Gate applied to the Computational Basis |-i⟩\" width=\"25%\">"
   ]
  },
  {
   "cell_type": "markdown",
   "metadata": {},
   "source": []
  },
  {
   "cell_type": "markdown",
   "metadata": {},
   "source": [
    "This is a **Quantum Gate** that carries out the following **Quantum Operation**:\n",
    "\n",
    "* $ U^{[n]}_{mqZ} = -2 |1 1 1 1 \\dots 1 \\rangle \\langle 1 1 1 1 \\dots 1 | + \\mathbf{I} $\n",
    "\n",
    "It is generally a quite complex task to build such a gate. We will see below examples with $n = 2$, $3$, $4$ **Qubits**. In the [**Quantum Computation and Quantum Information**](https://github.com/rubenandrebarreiro/summer-school-on-quantum-computing-software-for-near-term-quantum-devices-2020/blob/master/others/pdfs/books/quantum-computation-and-quantum-information-nielsen-and-chuang-book.pdf) book by [**Michael A. Nielsen**](http://michaelnielsen.org/) and [**Isaac L. Chuang**](https://en.wikipedia.org/wiki/Isaac_Chuang), **page 184**, they show a general procedure to build this **Multi-Qubit Gate** in general with [**Toffoli Gates**](https://en.wikipedia.org/wiki/Toffoli_gate) and additional [**Ancilla**](https://en.wikipedia.org/wiki/Ancilla_bit) **(extra) Qubits**. Here we will avoid the use of extra **Qubits**.\n",
    "\n",
    "Note that $U^{[n]}_{mqZ}$ multiplies a **Quantum State** conditioned to all **Qubits** being in state $|1\\rangle$. This operation is not trivial at all and it is difficult to scale to **Many-Qubits**. \n",
    "\n",
    "Remember that [**Grover's Algorithm**](https://en.wikipedia.org/wiki/Grover%27s_algorithm) does require in fact a slightly different operator to be used as **Inversion Operator**:\n",
    "\n",
    "* $ U_{inv} = -2 |0 0 0 \\dots 0 \\rangle \\langle 0 0 0 \\dots 0 | + \\mathbf{I} $\n",
    "\n",
    "<br>\n",
    "\n",
    "We can easliy express $U_{inv}$ in terms of $U_{mqZ}$ by using [**X-Gates**](https://qiskit.org/textbook/ch-states/single-qubit-gates.html#xgate), which just **swap** $|0\\rangle$ and $|1\\rangle$:\n",
    "\n",
    "* $ U_{inv} = X^{\\otimes n} U_{mqZ} X^{\\otimes n} $"
   ]
  },
  {
   "cell_type": "markdown",
   "metadata": {},
   "source": []
  },
  {
   "cell_type": "markdown",
   "metadata": {},
   "source": [
    "The cases with $n = 2$, $3$ are quite simple. The case of $n = 2$ is the usual [**Controlled-Z Gate**](https://qiskit.org/documentation/stubs/qiskit.circuit.library.CZGate.html#qiskit.circuit.library.CZGate). Let us define a function that implements this **Quantum Circuit**:"
   ]
  },
  {
   "cell_type": "code",
   "execution_count": 9,
   "metadata": {},
   "outputs": [],
   "source": [
    "def cz(circuit, qr):\n",
    "    \n",
    "    circuit.h(qr[1])\n",
    "    \n",
    "    circuit.cx(qr[0],qr[1])\n",
    "    \n",
    "    circuit.h(qr[1])"
   ]
  },
  {
   "cell_type": "code",
   "execution_count": 10,
   "metadata": {},
   "outputs": [
    {
     "data": {
      "image/png": "[encoded data removed]",
      "text/plain": [
       "<Figure size 334.213x144.48 with 1 Axes>"
      ]
     },
     "execution_count": 10,
     "metadata": {},
     "output_type": "execute_result"
    }
   ],
   "source": [
    "# Create a Classical Register for 2 Bits (Classical Bits), with a Total of 2 Possible Processed States\n",
    "qr2 = QuantumRegister(2)\n",
    "\n",
    "czCircuit = QuantumCircuit(qr2)\n",
    "\n",
    "cz(czCircuit,qr2)\n",
    "\n",
    "czCircuit.draw(output=\"mpl\")"
   ]
  },
  {
   "cell_type": "code",
   "execution_count": 11,
   "metadata": {},
   "outputs": [],
   "source": [
    "def ccz(circuit,qr):\n",
    "    \n",
    "    circuit.h(qr[2])\n",
    "    \n",
    "    # CCX is the Toffoli gate \n",
    "    circuit.ccx(qr[0], qr[1], qr[2])\n",
    "    \n",
    "    circuit.h(qr[2])"
   ]
  },
  {
   "cell_type": "code",
   "execution_count": 12,
   "metadata": {},
   "outputs": [
    {
     "data": {
      "image/png": "[encoded data removed]",
      "text/plain": [
       "<Figure size 334.503x204.68 with 1 Axes>"
      ]
     },
     "execution_count": 12,
     "metadata": {},
     "output_type": "execute_result"
    }
   ],
   "source": [
    "qr3 = QuantumRegister(3)\n",
    "\n",
    "cczCircuit = QuantumCircuit(qr3)\n",
    "\n",
    "ccz(cczCircuit,qr3)\n",
    "\n",
    "cczCircuit.draw(output=\"mpl\")"
   ]
  },
  {
   "cell_type": "markdown",
   "metadata": {},
   "source": [
    "The case $n = 4$ is more difficult. We will use an implementation that only uses [**Controlled-NOT Gates**]() and [**Phase Gates**]():"
   ]
  },
  {
   "cell_type": "code",
   "execution_count": 13,
   "metadata": {},
   "outputs": [],
   "source": [
    "def cccz(circuit,qr):\n",
    "    pi = math.pi\n",
    "    \n",
    "    circuit.cu1(pi/4,qr[0],qr[3])\n",
    "    circuit.cx(qr[0], qr[1])\n",
    "    circuit.cu1(-pi/4, qr[1],qr[3])\n",
    "    circuit.cx(qr[0], qr[1])\n",
    "    circuit.cu1(pi/4, qr[1],qr[3])\n",
    "    circuit.cx(qr[1], qr[2])\n",
    "    circuit.cu1(-pi/4, qr[2],qr[3])\n",
    "    circuit.cx(qr[0], qr[2])\n",
    "    circuit.cu1(pi/4, qr[2],qr[3])\n",
    "    circuit.cx(qr[1], qr[2])\n",
    "    circuit.cu1(-pi/4, qr[2],qr[3])\n",
    "    circuit.cx(qr[0], qr[2])\n",
    "    circuit.cu1(pi/4, qr[2],qr[3])"
   ]
  },
  {
   "cell_type": "code",
   "execution_count": 14,
   "metadata": {},
   "outputs": [
    {
     "data": {
      "image/png": "[encoded data removed]",
      "text/plain": [
       "<Figure size 1358.05x264.88 with 1 Axes>"
      ]
     },
     "execution_count": 14,
     "metadata": {},
     "output_type": "execute_result"
    }
   ],
   "source": [
    "qr4 = QuantumRegister(4)\n",
    "\n",
    "ccczCircuit = QuantumCircuit(qr4)\n",
    "\n",
    "cccz(ccczCircuit,qr4)\n",
    "\n",
    "ccczCircuit.draw(output=\"mpl\")"
   ]
  },
  {
   "cell_type": "markdown",
   "metadata": {},
   "source": [
    "Below we define a **Multi-Qubit** [**Controlled-Z Gate**]() for $N = 2, 3, 4$ **ions**. The function also counts the number of **Control Qubits**."
   ]
  },
  {
   "cell_type": "code",
   "execution_count": 15,
   "metadata": {},
   "outputs": [],
   "source": [
    "def n_controlled_Z(circuit, qr):\n",
    "    \n",
    "    # Implement a Z-Gate with multiple controls\n",
    "    if (len(qr) > 4):\n",
    "        raise ValueError('The Controlled-Z with more than 3 Control-Qubits is not implemented!!!')\n",
    "        \n",
    "    # This is the case n = 2 (1 control + 1 target Qubit)\n",
    "    elif (len(qr) == 2):\n",
    "        cz(circuit,qr)\n",
    "        \n",
    "    # This is the case n = 3 (2 control + 1 target Qubit)\n",
    "    elif (len(qr) == 3):\n",
    "        ccz(circuit,qr)\n",
    "        \n",
    "    # This is the case n = 4 (3 control + 1 target Qubit)\n",
    "    elif (len(qr) == 4):\n",
    "        cccz(circuit,qr)"
   ]
  },
  {
   "cell_type": "markdown",
   "metadata": {},
   "source": []
  },
  {
   "cell_type": "markdown",
   "metadata": {},
   "source": [
    "### **Excercise 1**\n",
    "Check out that the above definitions really implement the **Multi-Qubit** [**Controlled-Z Gate**](). In the cases $n = 2, 3$, you can show it explicitly with pen and paper, or just by checking with [**Qiskit**](https://qiskit.org/) how the function acts on different input states. The case $n = 4$ is more complicated and we recommend that you just check it numerically."
   ]
  },
  {
   "cell_type": "markdown",
   "metadata": {},
   "source": [
    "### **Resolution for Excercise 1**"
   ]
  },
  {
   "cell_type": "code",
   "execution_count": 16,
   "metadata": {},
   "outputs": [],
   "source": [
    "# Getting the Backend for the Unitary Representation of the Controlled-Z Gate\n",
    "# (i.e., the Quantum State represented as an Unitary Matrix)\n",
    "backend = Aer.get_backend('unitary_simulator')\n",
    "unitaryCZ = execute(czCircuit,backend).result().get_unitary()\n",
    "unitaryCCZ = execute(cczCircuit,backend).result().get_unitary()\n",
    "unitaryCCCZ = execute(ccczCircuit,backend).result().get_unitary()"
   ]
  },
  {
   "cell_type": "markdown",
   "metadata": {},
   "source": [
    "For the **Multi-Qubit** [**Controlled-Z Gate**]() for $n = 2, 3, 4$, we have the following **Unitary Matrices**:"
   ]
  },
  {
   "cell_type": "code",
   "execution_count": 17,
   "metadata": {},
   "outputs": [
    {
     "data": {
      "text/latex": [
       "$\\displaystyle \n",
       "\\text{CZ (Controlled-Z) = }\n",
       "\\begin{bmatrix}\n",
       "1 & 0 & 0 & 0  \\\\\n",
       "0 & 1 & 0 & 0  \\\\\n",
       "0 & 0 & 1 & 0  \\\\\n",
       "0 & 0 & 0 & -1  \\\\\n",
       "\\end{bmatrix}\n",
       "$$\n",
       "$"
      ],
      "text/plain": [
       "<IPython.core.display.Math object>"
      ]
     },
     "metadata": {},
     "output_type": "display_data"
    },
    {
     "data": {
      "text/latex": [
       "$\\displaystyle \n",
       "\\text{CCZ (Controlled-Controlled-Z) = }\n",
       "\\begin{bmatrix}\n",
       "1 & 0 & 0 & 0 & 0 & 0 & 0 & 0  \\\\\n",
       "0 & 1 & 0 & 0 & 0 & 0 & 0 & 0  \\\\\n",
       "0 & 0 & 1 & 0 & 0 & 0 & 0 & 0  \\\\\n",
       "0 & 0 & 0 & 1 & 0 & 0 & 0 & 0  \\\\\n",
       "0 & 0 & 0 & 0 & 1 & 0 & 0 & 0  \\\\\n",
       "0 & 0 & 0 & 0 & 0 & 1 & 0 & 0  \\\\\n",
       "0 & 0 & 0 & 0 & 0 & 0 & 1 & 0  \\\\\n",
       "0 & 0 & 0 & 0 & 0 & 0 & 0 & -1  \\\\\n",
       "\\end{bmatrix}\n",
       "$$\n",
       "$"
      ],
      "text/plain": [
       "<IPython.core.display.Math object>"
      ]
     },
     "metadata": {},
     "output_type": "display_data"
    },
    {
     "data": {
      "text/latex": [
       "$\\displaystyle \n",
       "\\text{CCZ (Controlled-Controlled-Controlled-Z) = }\n",
       "\\begin{bmatrix}\n",
       "1 & 0 & 0 & 0 & 0 & 0 & 0 & 0 & 0 & 0 & 0 & 0 & 0 & 0 & 0 & 0  \\\\\n",
       "0 & 1 & 0 & 0 & 0 & 0 & 0 & 0 & 0 & 0 & 0 & 0 & 0 & 0 & 0 & 0  \\\\\n",
       "0 & 0 & 1 & 0 & 0 & 0 & 0 & 0 & 0 & 0 & 0 & 0 & 0 & 0 & 0 & 0  \\\\\n",
       "0 & 0 & 0 & 1 & 0 & 0 & 0 & 0 & 0 & 0 & 0 & 0 & 0 & 0 & 0 & 0  \\\\\n",
       "0 & 0 & 0 & 0 & 1 & 0 & 0 & 0 & 0 & 0 & 0 & 0 & 0 & 0 & 0 & 0  \\\\\n",
       "0 & 0 & 0 & 0 & 0 & 1 & 0 & 0 & 0 & 0 & 0 & 0 & 0 & 0 & 0 & 0  \\\\\n",
       "0 & 0 & 0 & 0 & 0 & 0 & 1 & 0 & 0 & 0 & 0 & 0 & 0 & 0 & 0 & 0  \\\\\n",
       "0 & 0 & 0 & 0 & 0 & 0 & 0 & 1 & 0 & 0 & 0 & 0 & 0 & 0 & 0 & 0  \\\\\n",
       "0 & 0 & 0 & 0 & 0 & 0 & 0 & 0 & 1 & 0 & 0 & 0 & 0 & 0 & 0 & 0  \\\\\n",
       "0 & 0 & 0 & 0 & 0 & 0 & 0 & 0 & 0 & 1 & 0 & 0 & 0 & 0 & 0 & 0  \\\\\n",
       "0 & 0 & 0 & 0 & 0 & 0 & 0 & 0 & 0 & 0 & 1 & 0 & 0 & 0 & 0 & 0  \\\\\n",
       "0 & 0 & 0 & 0 & 0 & 0 & 0 & 0 & 0 & 0 & 0 & 1 & 0 & 0 & 0 & 0  \\\\\n",
       "0 & 0 & 0 & 0 & 0 & 0 & 0 & 0 & 0 & 0 & 0 & 0 & 1 & 0 & 0 & 0  \\\\\n",
       "0 & 0 & 0 & 0 & 0 & 0 & 0 & 0 & 0 & 0 & 0 & 0 & 0 & 1 & 0 & 0  \\\\\n",
       "0 & 0 & 0 & 0 & 0 & 0 & 0 & 0 & 0 & 0 & 0 & 0 & 0 & 0 & 1 & 0  \\\\\n",
       "0 & 0 & 0 & 0 & 0 & 0 & 0 & 0 & 0 & 0 & 0 & 0 & 0 & 0 & 0 & -1  \\\\\n",
       "\\end{bmatrix}\n",
       "$$\n",
       "$"
      ],
      "text/plain": [
       "<IPython.core.display.Math object>"
      ]
     },
     "metadata": {},
     "output_type": "display_data"
    }
   ],
   "source": [
    "array_to_latex(unitaryCZ, pretext=\"\\\\text{CZ (Controlled-Z) = }\\n\")\n",
    "array_to_latex(unitaryCCZ, pretext=\"\\\\text{CCZ (Controlled-Controlled-Z) = }\\n\")\n",
    "array_to_latex(unitaryCCCZ, pretext=\"\\\\text{CCZ (Controlled-Controlled-Controlled-Z) = }\\n\")"
   ]
  },
  {
   "cell_type": "markdown",
   "metadata": {},
   "source": [
    "In fact, we can generalize a **Multi-Qubit** [**Controlled-Z Gate**](), with $n = k$, as a **Unitary Matrix**, with the following configuration:\n",
    "\n",
    "<br>\n",
    "\n",
    "* $ Multi-Qubit \\ Controlled-Z = \\begin{bmatrix} 1 & 0 & 0 & \\dots & 0 & 0 \\\\ 0 & 1 & 0 & \\dots & 0 & 0 \\\\ \\vdots & \\vdots & \\vdots & \\ddots & \\ddots & \\vdots \\\\ 0 & 0 & 0 & \\dots & 1 & 0 \\\\ 0 & 0 & 0 & \\dots & 0 & -1 \\end{bmatrix} $ ,\n",
    "\n",
    "    with **dimension** of $ 2^{k} $ (i.e., a $ 2^{k} \\times 2^{k} $ **Square Matrix**).\n",
    "\n",
    "In this **Unitary Matrix**, denoted by $ U $, the **elements/entries** $ U_{2^{k}-1,\\ 2^{k}-1} $, $ U_{2^{k}-1,\\ 2^{k}} $, $ U_{2^{k},\\ 2^{k}-1} $ and $ U_{2^{k},\\ 2^{k}} $ are represented by the [**Pauli-Z Matrix**]():\n",
    "\n",
    "* $ Pauli-Z = \\begin{bmatrix} 1 & 0 \\\\ 0 & -1 \\end{bmatrix} $\n",
    "\n",
    "And, the remaining **elements/entries** are equivalent to the [**Identity Matrix**]():\n",
    "\n",
    "* $ I_{2^{k}-2} = \\begin{bmatrix} 1 & 0 & \\dots & 0 \\\\ 0 & 1 & \\dots & 0 \\\\ \\vdots & \\vdots & \\ddots & \\vdots \\\\ 0 & 0 & \\dots & 1 \\end{bmatrix} $"
   ]
  },
  {
   "cell_type": "markdown",
   "metadata": {},
   "source": [
    "This **Multi-Qubit** [**Controlled-Z Gate**]() acts as the following:\n",
    "\n",
    "<br>\n",
    "\n",
    "* If all the **Control-Qubits** (i.e., the **elements/entries** represented by the **Identity Diagonal** from $ U_{1,\\ 1} $ to $ U_{2^{k}-2,\\ 2^{k}-2} $) are set to $ |1 \\rangle $, then it applies the [**Pauli-Z Gate**]() to the **Target-Qubit** (i.e., the **elements/entries** represented by the **Diagonal** from $ U_{2^{k}-2,\\ 2^{k}-2} $ to $ U_{2^{k},\\ 2^{k}} $);\n",
    "\n",
    "<br>\n",
    "\n",
    "* Otherwise, the **Target-Qubit** have its **state** (or, its **Phase**, in this case) unchanged; "
   ]
  },
  {
   "cell_type": "markdown",
   "metadata": {},
   "source": [
    "We can have the following **Classical Computational States** configurations for a **Qubit**:\n",
    "\n",
    "<br>\n",
    "\n",
    "* $ | 0 \\rangle = | \\uparrow \\rangle = \\begin{bmatrix} 1 \\\\ 0 \\end{bmatrix} $\n",
    "\n",
    "<br>\n",
    "\n",
    "* $ | 1 \\rangle = | \\downarrow \\rangle = \\begin{bmatrix} 0 \\\\ 1 \\end{bmatrix} $"
   ]
  },
  {
   "cell_type": "markdown",
   "metadata": {},
   "source": [
    "In order to see the behaviour of the [**Z Gate**](), you can do the following **Multiplication** between the [**Pauli-Z Matrix**]() and the **Statevector** of the **Qubit**, accordingly with previously defined configurations:\n",
    "\n",
    "<br>\n",
    "\n",
    "* $ Z| 0 \\rangle = Z| \\uparrow \\rangle = \\begin{bmatrix} 1 & 0 \\\\ 0 & -1 \\end{bmatrix} \\times \\begin{bmatrix} 1 \\\\ 0 \\end{bmatrix} = \\begin{bmatrix} 1 \\\\ 0 \\end{bmatrix} = | 0 \\rangle $\n",
    "\n",
    "<br>\n",
    "\n",
    "* $ Z| 1 \\rangle = Z| \\downarrow \\rangle = \\begin{bmatrix} 1 & 0 \\\\ 0 & -1 \\end{bmatrix} \\times \\begin{bmatrix} 0 \\\\ 1 \\end{bmatrix} = \\begin{bmatrix} 0 \\\\ -1 \\end{bmatrix} = -| 1 \\rangle $\n",
    "\n",
    "<br>\n",
    "\n",
    "In fact, we can generalize this behaviour, as the following:\n",
    "\n",
    "<br>\n",
    "\n",
    "* $ Z| \\psi \\rangle = \\begin{bmatrix} 1 & 0 \\\\ 0 & -1 \\end{bmatrix} \\times \\begin{bmatrix} \\alpha \\\\ \\beta \\end{bmatrix} = \\begin{bmatrix} \\alpha \\\\ -\\beta \\end{bmatrix} $\n",
    "\n",
    "<br>\n",
    "\n",
    "Thus, and as expected, even if you have the following situations, the same behaviour happens:\n",
    "\n",
    "<br>\n",
    "\n",
    "* $ Z(-| 1 \\rangle) = \\begin{bmatrix} 1 & 0 \\\\ 0 & -1 \\end{bmatrix} \\times \\begin{bmatrix} 0 \\\\ -1 \\end{bmatrix} = \\begin{bmatrix} 0 \\\\ 1 \\end{bmatrix} = | 1 \\rangle $"
   ]
  },
  {
   "cell_type": "markdown",
   "metadata": {},
   "source": [
    "This **Multi-Qubit** [**Controlled-Z Gate**]() with $ n = 2 $ acts as the following:\n",
    "\n",
    "<br>\n",
    "\n",
    "* $ | \\psi_{a} \\rangle = | \\psi_{control} \\rangle = \\begin{bmatrix} \\alpha \\\\ \\beta \\end{bmatrix} $ (**Control-Qubit**)\n",
    "\n",
    "<br>\n",
    "\n",
    "* $ | \\psi_{b} \\rangle = | \\psi_{target} \\rangle = \\begin{bmatrix} \\gamma \\\\ \\delta \\end{bmatrix} $ (**Target-Qubit**)\n",
    "\n",
    "<br>\n",
    "\n",
    "* $ | \\psi_{b} \\rangle \\otimes | \\psi_{a} \\rangle = | \\psi_{target} \\rangle \\otimes | \\psi_{control} \\rangle = \\begin{bmatrix} \\gamma \\\\ \\delta \\end{bmatrix} \\otimes \\begin{bmatrix} \\alpha \\\\ \\beta \\end{bmatrix} = \\begin{bmatrix} \\gamma \\alpha \\\\ \\gamma \\beta \\\\ \\delta \\alpha \\\\ \\delta \\beta \\end{bmatrix} = | \\psi_{target} \\psi_{control} \\rangle = | \\psi_{b} \\psi_{a} \\rangle $\n",
    "\n",
    "<br>\n",
    "\n",
    "* $ CZ| \\psi_{b} \\psi_{a} \\rangle = CZ| \\psi_{target} \\psi_{control} \\rangle = \\begin{bmatrix} 1 & 0 & 0 & 0 \\\\ 0 & 1 & 0 & 0 \\\\ 0 & 0 & 1 & 0 \\\\ 0 & 0 & 0 & -1 \\end{bmatrix} \\times \\begin{bmatrix} \\gamma \\alpha \\\\ \\gamma \\beta \\\\ \\delta \\alpha \\\\ \\delta \\beta \\end{bmatrix} = \\begin{bmatrix} \\gamma \\alpha \\\\ \\gamma \\beta \\\\ \\delta \\alpha \\\\ -\\delta \\beta \\end{bmatrix} $\n",
    "\n",
    "<br>\n",
    "\n",
    "So, for the following configurations, we have the shown behaviour:\n",
    "\n",
    "* For $ | \\psi_{b} \\psi_{a} \\rangle = | \\psi_{target} \\psi_{control} \\rangle = | 00 \\rangle $:\n",
    "\n",
    "    <br>\n",
    "\n",
    "    * $ | \\psi_{a} \\rangle = | \\psi_{control} \\rangle = | 0 \\rangle = \\begin{bmatrix} \\alpha = 1 \\\\ \\beta = 0 \\end{bmatrix} $ (**Control-Qubit**)\n",
    "\n",
    "    <br>\n",
    "\n",
    "    * $ | \\psi_{b} \\rangle = | \\psi_{target} \\rangle = | 0 \\rangle = \\begin{bmatrix} \\gamma = 1 \\\\ \\delta = 0 \\end{bmatrix} $ (**Target-Qubit**)\n",
    "\n",
    "    <br>\n",
    "\n",
    "    * $ CZ| \\psi_{b} \\psi_{a} \\rangle = CZ| \\psi_{target} \\psi_{control} \\rangle = CZ| 00 \\rangle = \\begin{bmatrix} \\gamma \\alpha \\\\ \\gamma \\beta \\\\ \\delta \\alpha \\\\ -\\delta \\beta \\end{bmatrix} = \\begin{bmatrix} 1 \\times 1 = 1 \\\\ 1 \\times 0 = 0 \\\\ 0 \\times 1 = 0 \\\\ 0 \\times 0 = 0 \\end{bmatrix} = \\begin{bmatrix} 1 \\\\ 0 \\\\ 0 \\\\ 0 \\end{bmatrix} = | 00 \\rangle $\n",
    "    \n",
    "<br>\n",
    "<br>\n",
    "\n",
    "* For $ | \\psi_{b} \\psi_{a} \\rangle = | \\psi_{target} \\psi_{control} \\rangle = | 01 \\rangle $:\n",
    "\n",
    "    <br>\n",
    "\n",
    "    * $ | \\psi_{a} \\rangle = | \\psi_{control} \\rangle = | 1 \\rangle = \\begin{bmatrix} \\alpha = 0 \\\\ \\beta = 1 \\end{bmatrix} $ (**Control-Qubit**)\n",
    "\n",
    "    <br>\n",
    "\n",
    "    * $ | \\psi_{b} \\rangle = | \\psi_{target} \\rangle = | 0 \\rangle = \\begin{bmatrix} \\gamma = 1 \\\\ \\delta = 0 \\end{bmatrix} $ (**Target-Qubit**)\n",
    "\n",
    "    <br>\n",
    "\n",
    "    * $ CZ| \\psi_{b} \\psi_{a} \\rangle = CZ| \\psi_{target} \\psi_{control} \\rangle = CZ| 01 \\rangle = \\begin{bmatrix} \\gamma \\alpha \\\\ \\gamma \\beta \\\\ \\delta \\alpha \\\\ -\\delta \\beta \\end{bmatrix} = \\begin{bmatrix} 1 \\times 0 = 0 \\\\ 1 \\times 1 = 1 \\\\ 0 \\times 0 = 0 \\\\ 0 \\times 1 = 0 \\end{bmatrix} = \\begin{bmatrix} 0 \\\\ 1 \\\\ 0 \\\\ 0 \\end{bmatrix} = | 01 \\rangle $\n",
    "    \n",
    "<br>\n",
    "<br>\n",
    "\n",
    "* For $ | \\psi_{b} \\psi_{a} \\rangle = | \\psi_{target} \\psi_{control} \\rangle = | 10 \\rangle $:\n",
    "\n",
    "    <br>\n",
    "\n",
    "    * $ | \\psi_{a} \\rangle = | \\psi_{control} \\rangle = | 0 \\rangle = \\begin{bmatrix} \\alpha = 1 \\\\ \\beta = 0 \\end{bmatrix} $ (**Control-Qubit**)\n",
    "\n",
    "    <br>\n",
    "\n",
    "    * $ | \\psi_{b} \\rangle = | \\psi_{target} \\rangle = | 1 \\rangle = \\begin{bmatrix} \\gamma = 0 \\\\ \\delta = 1 \\end{bmatrix} $ (**Target-Qubit**)\n",
    "\n",
    "    <br>\n",
    "\n",
    "    * $ CZ| \\psi_{b} \\psi_{a} \\rangle = CZ| \\psi_{target} \\psi_{control} \\rangle = CZ| 10 \\rangle = \\begin{bmatrix} \\gamma \\alpha \\\\ \\gamma \\beta \\\\ \\delta \\alpha \\\\ -\\delta \\beta \\end{bmatrix} = \\begin{bmatrix} 0 \\times 1 = 0 \\\\ 0 \\times 0 = 0 \\\\ 1 \\times 1 = 1 \\\\ -1 \\times 0 = 0 \\end{bmatrix} = \\begin{bmatrix} 0 \\\\ 0 \\\\ 1 \\\\ 0 \\end{bmatrix} = | 10 \\rangle $\n",
    "    \n",
    "<br>\n",
    "<br>\n",
    "\n",
    "* For $ | \\psi_{b} \\psi_{a} \\rangle = | \\psi_{target} \\psi_{control} \\rangle = | 11 \\rangle $ (**Case #1**):\n",
    "\n",
    "    <br>\n",
    "\n",
    "    * $ | \\psi_{a} \\rangle = | \\psi_{control} \\rangle = | 1 \\rangle = \\begin{bmatrix} \\alpha = 0 \\\\ \\beta = 1 \\end{bmatrix} $ (**Control-Qubit**)\n",
    "\n",
    "    <br>\n",
    "\n",
    "    * $ | \\psi_{b} \\rangle = | \\psi_{target} \\rangle = | 1 \\rangle = \\begin{bmatrix} \\gamma = 0 \\\\ \\delta = 1 \\end{bmatrix} $ (**Target-Qubit**)\n",
    "\n",
    "    <br>\n",
    "\n",
    "    * $ CZ| \\psi_{b} \\psi_{a} \\rangle = CZ| \\psi_{target} \\psi_{control} \\rangle = CZ| 11 \\rangle = \\begin{bmatrix} \\gamma \\alpha \\\\ \\gamma \\beta \\\\ \\delta \\alpha \\\\ -\\delta \\beta \\end{bmatrix} = \\begin{bmatrix} 0 \\times 0 = 0 \\\\ 0 \\times 1 = 0 \\\\ 1 \\times 0 = 0 \\\\ -1 \\times 1 = -1 \\end{bmatrix} = \\begin{bmatrix} 0 \\\\ 0 \\\\ 0 \\\\ -1 \\end{bmatrix} = -| 11 \\rangle $\n",
    "    \n",
    "<br>\n",
    "<br>\n",
    "\n",
    "* For $ | \\psi_{b} \\psi_{a} \\rangle = | \\psi_{target} \\psi_{control} \\rangle = | 11 \\rangle $ (**Case #2**):\n",
    "\n",
    "    <br>\n",
    "\n",
    "    * $ | \\psi_{a} \\rangle = | \\psi_{control} \\rangle = -| 1 \\rangle = \\begin{bmatrix} \\alpha = 0 \\\\ \\beta = -1 \\end{bmatrix} $ (**Control-Qubit**)\n",
    "\n",
    "    <br>\n",
    "\n",
    "    * $ | \\psi_{b} \\rangle = | \\psi_{target} \\rangle = -| 1 \\rangle = \\begin{bmatrix} \\gamma = 0 \\\\ \\delta = -1 \\end{bmatrix} $ (**Target-Qubit**)\n",
    "\n",
    "    <br>\n",
    "\n",
    "    * $ CZ| \\psi_{b} \\psi_{a} \\rangle = CZ| \\psi_{target} \\psi_{control} \\rangle = CZ| 11 \\rangle = \\begin{bmatrix} \\gamma \\alpha \\\\ \\gamma \\beta \\\\ \\delta \\alpha \\\\ -\\delta \\beta \\end{bmatrix} = \\begin{bmatrix} 0 \\times 0 = 0 \\\\ 0 \\times -1 = 0 \\\\ -1 \\times 0 = 0 \\\\ -1 \\times -1 \\times -1 = -1 \\end{bmatrix} = \\begin{bmatrix} 0 \\\\ 0 \\\\ 0 \\\\ -1 \\end{bmatrix} = -| 11 \\rangle $\n",
    "    \n",
    "<br>\n",
    "<br>\n",
    "\n",
    "* For $ | \\psi_{b} \\psi_{a} \\rangle = | \\psi_{target} \\psi_{control} \\rangle = -| 11 \\rangle $ (**Case #1**):\n",
    "\n",
    "    <br>\n",
    "\n",
    "    * $ | \\psi_{a} \\rangle = | \\psi_{control} \\rangle = -| 1 \\rangle = \\begin{bmatrix} \\alpha = 0 \\\\ \\beta = -1 \\end{bmatrix} $ (**Control-Qubit**)\n",
    "\n",
    "    <br>\n",
    "\n",
    "    * $ | \\psi_{b} \\rangle = | \\psi_{target} \\rangle = | 1 \\rangle = \\begin{bmatrix} \\gamma = 0 \\\\ \\delta = 1 \\end{bmatrix} $ (**Target-Qubit**)\n",
    "\n",
    "    <br>\n",
    "\n",
    "    * $ CZ| \\psi_{b} \\psi_{a} \\rangle = CZ| \\psi_{target} \\psi_{control} \\rangle = CZ(-| 11 \\rangle) = \\begin{bmatrix} \\gamma \\alpha \\\\ \\gamma \\beta \\\\ \\delta \\alpha \\\\ -\\delta \\beta \\end{bmatrix} = \\begin{bmatrix} 0 \\times 0 = 0 \\\\ 0 \\times -1 = 0 \\\\ 1 \\times 0 = 0 \\\\ -1 \\times -1 = 1 \\end{bmatrix} = \\begin{bmatrix} 0 \\\\ 0 \\\\ 0 \\\\ 1 \\end{bmatrix} = | 11 \\rangle $\n",
    "    \n",
    "<br>\n",
    "<br>\n",
    "\n",
    "* For $ | \\psi_{b} \\psi_{a} \\rangle = | \\psi_{target} \\psi_{control} \\rangle = -| 11 \\rangle $ (**Case #2**):\n",
    "\n",
    "    <br>\n",
    "\n",
    "    * $ | \\psi_{a} \\rangle = | \\psi_{control} \\rangle = | 1 \\rangle = \\begin{bmatrix} \\alpha = 0 \\\\ \\beta = 1 \\end{bmatrix} $ (**Control-Qubit**)\n",
    "\n",
    "    <br>\n",
    "\n",
    "    * $ | \\psi_{b} \\rangle = | \\psi_{target} \\rangle = -| 1 \\rangle = \\begin{bmatrix} \\gamma = 0 \\\\ \\delta = -1 \\end{bmatrix} $ (**Target-Qubit**)\n",
    "\n",
    "    <br>\n",
    "\n",
    "    * $ CZ| \\psi_{b} \\psi_{a} \\rangle = CZ| \\psi_{target} \\psi_{control} \\rangle = CZ(-| 11 \\rangle) = \\begin{bmatrix} \\gamma \\alpha \\\\ \\gamma \\beta \\\\ \\delta \\alpha \\\\ -\\delta \\beta \\end{bmatrix} = \\begin{bmatrix} 0 \\times 0 = 0 \\\\ 0 \\times 1 = 0 \\\\ -1 \\times 0 = 0 \\\\ -1 \\times -1 \\times 1 = 1 \\end{bmatrix} = \\begin{bmatrix} 0 \\\\ 0 \\\\ 0 \\\\ 1 \\end{bmatrix} = | 11 \\rangle $"
   ]
  },
  {
   "cell_type": "markdown",
   "metadata": {},
   "source": [
    "This **Multi-Qubit** [**Controlled-Z Gate**]() with $ n = 3 $ acts as the following:\n",
    "\n",
    "<br>\n",
    "\n",
    "* $ | \\psi_{a} \\rangle = | \\psi_{control-1} \\rangle = \\begin{bmatrix} \\alpha \\\\ \\beta \\end{bmatrix} $ (**Control-Qubit #1**)\n",
    "\n",
    "<br>\n",
    "\n",
    "* $ | \\psi_{b} \\rangle = | \\psi_{control-2} \\rangle = \\begin{bmatrix} \\gamma \\\\ \\delta \\end{bmatrix} $ (**Control-Qubit #2**)\n",
    "\n",
    "<br>\n",
    "\n",
    "* $ | \\psi_{c} \\rangle = | \\psi_{target} \\rangle = \\begin{bmatrix} \\epsilon \\\\ \\zeta \\end{bmatrix} $ (**Target-Qubit**)\n",
    "\n",
    "<br>\n",
    "\n",
    "* $ | \\psi_{c} \\rangle \\otimes | \\psi_{b} \\rangle \\otimes | \\psi_{a} \\rangle = | \\psi_{target} \\rangle \\otimes | \\psi_{control-2} \\rangle \\otimes | \\psi_{control-1} \\rangle = \\begin{bmatrix} \\epsilon \\\\ \\zeta \\end{bmatrix} \\otimes \\begin{bmatrix} \\gamma \\\\ \\delta \\end{bmatrix} \\otimes \\begin{bmatrix} \\alpha \\\\ \\beta \\end{bmatrix} = \\begin{bmatrix} \\epsilon \\\\ \\zeta \\end{bmatrix} \\otimes \\begin{bmatrix} \\gamma \\alpha \\\\ \\gamma \\beta \\\\ \\delta \\alpha \\\\ \\delta \\beta \\end{bmatrix} = \\begin{bmatrix} \\epsilon \\gamma \\alpha \\\\ \\epsilon \\gamma \\beta \\\\ \\epsilon \\delta \\alpha \\\\ \\epsilon \\delta \\beta \\\\ \\zeta \\gamma \\alpha \\\\ \\zeta \\gamma \\beta \\\\ \\zeta \\delta \\alpha \\\\ \\zeta \\delta \\beta \\end{bmatrix} = | \\psi_{target} \\psi_{control-2} \\psi_{control-1} \\rangle = | \\psi_{c} \\psi_{b} \\psi_{a} \\rangle $\n",
    "\n",
    "<br>\n",
    "\n",
    "* $ CCZ| \\psi_{c} \\psi_{b} \\psi_{a} \\rangle = CCZ| \\psi_{target} \\psi_{control-2} \\psi_{control-1} \\rangle = \\begin{bmatrix} 1 & 0 & 0 & 0 & 0 & 0 \\\\ 0 & 1 & 0 & 0 & 0 & 0 \\\\ 0 & 0 & 1 & 0 & 0 & 0 \\\\ 0 & 0 & 0 & 1 & 0 & 0 \\\\ 0 & 0 & 0 & 0 & 1 & 0 \\\\ 0 & 0 & 0 & 0 & 0 & -1 \\end{bmatrix} \\times \\begin{bmatrix} \\epsilon \\gamma \\alpha \\\\ \\epsilon \\gamma \\beta \\\\ \\epsilon \\delta \\alpha \\\\ \\epsilon \\delta \\beta \\\\ \\zeta \\gamma \\alpha \\\\ \\zeta \\gamma \\beta \\\\ \\zeta \\delta \\alpha \\\\ \\zeta \\delta \\beta \\end{bmatrix} = \\begin{bmatrix} \\epsilon \\gamma \\alpha \\\\ \\epsilon \\gamma \\beta \\\\ \\epsilon \\delta \\alpha \\\\ \\epsilon \\delta \\beta \\\\ \\zeta \\gamma \\alpha \\\\ \\zeta \\gamma \\beta \\\\ \\zeta \\delta \\alpha \\\\ -\\zeta \\delta \\beta \\end{bmatrix} $\n",
    "\n",
    "<br>\n",
    "\n",
    "So, for the following configurations, we have the shown behaviour:\n",
    "\n",
    "* For $ | \\psi_{c} \\psi_{b} \\psi_{a} \\rangle = | \\psi_{target} \\psi_{control-2} \\psi_{control-1} \\rangle = | 000 \\rangle $:\n",
    "\n",
    "    <br>\n",
    "\n",
    "    * $ | \\psi_{a} \\rangle = | \\psi_{control-1} \\rangle = \\begin{bmatrix} \\alpha = 1 \\\\ \\beta = 0 \\end{bmatrix} $ (**Control-Qubit #1**)\n",
    "\n",
    "    <br>\n",
    "\n",
    "    * $ | \\psi_{b} \\rangle = | \\psi_{control-2} \\rangle = \\begin{bmatrix} \\gamma = 1 \\\\ \\delta = 0 \\end{bmatrix} $ (**Control-Qubit #2**)\n",
    "\n",
    "    <br>\n",
    "\n",
    "    * $ | \\psi_{c} \\rangle = | \\psi_{target} \\rangle = \\begin{bmatrix} \\epsilon = 1 \\\\ \\zeta = 0 \\end{bmatrix} $ (**Target-Qubit**)\n",
    "\n",
    "    <br>\n",
    "\n",
    "    * $ CCZ| \\psi{c} \\psi_{b} \\psi_{a} \\rangle = CCZ| \\psi_{target} \\psi_{control-2} \\psi_{control-1} \\rangle = CZ| 000 \\rangle = \\begin{bmatrix} \\epsilon \\gamma \\alpha \\\\ \\epsilon \\gamma \\beta \\\\ \\epsilon \\delta \\alpha \\\\ \\epsilon \\delta \\beta \\\\ \\zeta \\gamma \\alpha \\\\ \\zeta \\gamma \\beta \\\\ \\zeta \\delta \\alpha \\\\ -\\zeta \\delta \\beta \\end{bmatrix} = \\begin{bmatrix} 1 \\times 1 \\times 1 = 1 \\\\ 1 \\times 1 \\times 0 = 0 \\\\ 1 \\times 0 \\times 1 = 0 \\\\ 1 \\times 0 \\times 0 = 0 \\\\ 0 \\times 1 \\times 1 = 0 \\\\ 0 \\times 1 \\times 1 = 0 \\\\ 0 \\times 1 \\times 0 = 0 \\\\ -0 \\times 0 \\times 0 = 0 \\end{bmatrix} = \\begin{bmatrix} 1 \\\\ 0 \\\\ 0 \\\\ 0 \\\\ 0 \\\\ 0 \\\\ 0 \\\\ 0 \\end{bmatrix} = | 000 \\rangle $\n",
    "    \n",
    "<br>\n",
    "<br>\n",
    "\n",
    "* For $ | \\psi_{c} \\psi_{b} \\psi_{a} \\rangle = | \\psi_{target} \\psi_{control-2} \\psi_{control-1} \\rangle = | 001 \\rangle $:\n",
    "\n",
    "    <br>\n",
    "\n",
    "    * $ | \\psi_{a} \\rangle = | \\psi_{control-1} \\rangle = \\begin{bmatrix} \\alpha = 0 \\\\ \\beta = 1 \\end{bmatrix} $ (**Control-Qubit #1**)\n",
    "\n",
    "    <br>\n",
    "\n",
    "    * $ | \\psi_{b} \\rangle = | \\psi_{control-2} \\rangle = \\begin{bmatrix} \\gamma = 1 \\\\ \\delta = 0 \\end{bmatrix} $ (**Control-Qubit #2**)\n",
    "\n",
    "    <br>\n",
    "\n",
    "    * $ | \\psi_{c} \\rangle = | \\psi_{target} \\rangle = \\begin{bmatrix} \\epsilon = 1 \\\\ \\zeta = 0 \\end{bmatrix} $ (**Target-Qubit**)\n",
    "\n",
    "    <br>\n",
    "\n",
    "    * $ CCZ| \\psi{c} \\psi_{b} \\psi_{a} \\rangle = CCZ| \\psi_{target} \\psi_{control-2} \\psi_{control-1} \\rangle = CZ| 001 \\rangle = \\begin{bmatrix} \\epsilon \\gamma \\alpha \\\\ \\epsilon \\gamma \\beta \\\\ \\epsilon \\delta \\alpha \\\\ \\epsilon \\delta \\beta \\\\ \\zeta \\gamma \\alpha \\\\ \\zeta \\gamma \\beta \\\\ \\zeta \\delta \\alpha \\\\ -\\zeta \\delta \\beta \\end{bmatrix} = \\begin{bmatrix} 1 \\times 1 \\times 0 = 0 \\\\ 1 \\times 1 \\times 1 = 1 \\\\ 1 \\times 0 \\times 0 = 0 \\\\ 1 \\times 0 \\times 1 = 0 \\\\ 0 \\times 1 \\times 0 = 0 \\\\ 0 \\times 1 \\times 1 = 0 \\\\ 0 \\times 1 \\times 0 = 0 \\\\ -0 \\times 0 \\times 1 = 0 \\end{bmatrix} = \\begin{bmatrix} 0 \\\\ 1 \\\\ 0 \\\\ 0 \\\\ 0 \\\\ 0 \\\\ 0 \\\\ 0 \\end{bmatrix} = | 001 \\rangle $\n",
    "    \n",
    "<br>\n",
    "<br>\n",
    "\n",
    "* For $ | \\psi_{c} \\psi_{b} \\psi_{a} \\rangle = | \\psi_{target} \\psi_{control-2} \\psi_{control-1} \\rangle = | 010 \\rangle $:\n",
    "\n",
    "    <br>\n",
    "\n",
    "    * $ | \\psi_{a} \\rangle = | \\psi_{control-1} \\rangle = \\begin{bmatrix} \\alpha = 1 \\\\ \\beta = 0 \\end{bmatrix} $ (**Control-Qubit #1**)\n",
    "\n",
    "    <br>\n",
    "\n",
    "    * $ | \\psi_{b} \\rangle = | \\psi_{control-2} \\rangle = \\begin{bmatrix} \\gamma = 0 \\\\ \\delta = 1 \\end{bmatrix} $ (**Control-Qubit #2**)\n",
    "\n",
    "    <br>\n",
    "\n",
    "    * $ | \\psi_{c} \\rangle = | \\psi_{target} \\rangle = \\begin{bmatrix} \\epsilon = 1 \\\\ \\zeta = 0 \\end{bmatrix} $ (**Target-Qubit**)\n",
    "\n",
    "    <br>\n",
    "\n",
    "    * $ CCZ| \\psi{c} \\psi_{b} \\psi_{a} \\rangle = CCZ| \\psi_{target} \\psi_{control-2} \\psi_{control-1} \\rangle = CZ| 010 \\rangle = \\begin{bmatrix} \\epsilon \\gamma \\alpha \\\\ \\epsilon \\gamma \\beta \\\\ \\epsilon \\delta \\alpha \\\\ \\epsilon \\delta \\beta \\\\ \\zeta \\gamma \\alpha \\\\ \\zeta \\gamma \\beta \\\\ \\zeta \\delta \\alpha \\\\ -\\zeta \\delta \\beta \\end{bmatrix} = \\begin{bmatrix} 1 \\times 0 \\times 1 = 0 \\\\ 1 \\times 0 \\times 0 = 0 \\\\ 1 \\times 1 \\times 1 = 1 \\\\ 1 \\times 1 \\times 0 = 0 \\\\ 0 \\times 0 \\times 1 = 0 \\\\ 0 \\times 0 \\times 0 = 0 \\\\ 0 \\times 1 \\times 1 = 0 \\\\ -0 \\times 1 \\times 0 = 0 \\end{bmatrix} = \\begin{bmatrix} 0 \\\\ 0 \\\\ 1 \\\\ 0 \\\\ 0 \\\\ 0 \\\\ 0 \\\\ 0 \\end{bmatrix} = | 010 \\rangle $\n",
    "    \n",
    "<br>\n",
    "<br>\n",
    "\n",
    "* For $ | \\psi_{c} \\psi_{b} \\psi_{a} \\rangle = | \\psi_{target} \\psi_{control-2} \\psi_{control-1} \\rangle = | 011 \\rangle $:\n",
    "\n",
    "    <br>\n",
    "\n",
    "    * $ | \\psi_{a} \\rangle = | \\psi_{control-1} \\rangle = \\begin{bmatrix} \\alpha = 0 \\\\ \\beta = 1 \\end{bmatrix} $ (**Control-Qubit #1**)\n",
    "\n",
    "    <br>\n",
    "\n",
    "    * $ | \\psi_{b} \\rangle = | \\psi_{control-2} \\rangle = \\begin{bmatrix} \\gamma = 0 \\\\ \\delta = 1 \\end{bmatrix} $ (**Control-Qubit #2**)\n",
    "\n",
    "    <br>\n",
    "\n",
    "    * $ | \\psi_{c} \\rangle = | \\psi_{target} \\rangle = \\begin{bmatrix} \\epsilon = 1 \\\\ \\zeta = 0 \\end{bmatrix} $ (**Target-Qubit**)\n",
    "\n",
    "    <br>\n",
    "\n",
    "    * $ CCZ| \\psi{c} \\psi_{b} \\psi_{a} \\rangle = CCZ| \\psi_{target} \\psi_{control-2} \\psi_{control-1} \\rangle = CZ| 011 \\rangle = \\begin{bmatrix} \\epsilon \\gamma \\alpha \\\\ \\epsilon \\gamma \\beta \\\\ \\epsilon \\delta \\alpha \\\\ \\epsilon \\delta \\beta \\\\ \\zeta \\gamma \\alpha \\\\ \\zeta \\gamma \\beta \\\\ \\zeta \\delta \\alpha \\\\ -\\zeta \\delta \\beta \\end{bmatrix} = \\begin{bmatrix} 1 \\times 0 \\times 0 = 0 \\\\ 1 \\times 0 \\times 1 = 0 \\\\ 1 \\times 1 \\times 0 = 0 \\\\ 1 \\times 1 \\times 1 = 1 \\\\ 0 \\times 0 \\times 0 = 0 \\\\ 0 \\times 0 \\times 1 = 0 \\\\ 0 \\times 1 \\times 0 = 0 \\\\ -0 \\times 1 \\times 1 = 0 \\end{bmatrix} = \\begin{bmatrix} 0 \\\\ 0 \\\\ 0 \\\\ 1 \\\\ 0 \\\\ 0 \\\\ 0 \\\\ 0 \\end{bmatrix} = | 011 \\rangle $\n",
    "    \n",
    "<br>\n",
    "<br>\n",
    "\n",
    "* For $ | \\psi_{c} \\psi_{b} \\psi_{a} \\rangle = | \\psi_{target} \\psi_{control-2} \\psi_{control-1} \\rangle = | 100 \\rangle $:\n",
    "\n",
    "    <br>\n",
    "\n",
    "    * $ | \\psi_{a} \\rangle = | \\psi_{control-1} \\rangle = \\begin{bmatrix} \\alpha = 1 \\\\ \\beta = 0 \\end{bmatrix} $ (**Control-Qubit #1**)\n",
    "\n",
    "    <br>\n",
    "\n",
    "    * $ | \\psi_{b} \\rangle = | \\psi_{control-2} \\rangle = \\begin{bmatrix} \\gamma = 1 \\\\ \\delta = 0 \\end{bmatrix} $ (**Control-Qubit #2**)\n",
    "\n",
    "    <br>\n",
    "\n",
    "    * $ | \\psi_{c} \\rangle = | \\psi_{target} \\rangle = \\begin{bmatrix} \\epsilon = 0 \\\\ \\zeta = 1 \\end{bmatrix} $ (**Target-Qubit**)\n",
    "\n",
    "    <br>\n",
    "\n",
    "    * $ CCZ| \\psi{c} \\psi_{b} \\psi_{a} \\rangle = CCZ| \\psi_{target} \\psi_{control-2} \\psi_{control-1} \\rangle = CZ| 100 \\rangle = \\begin{bmatrix} \\epsilon \\gamma \\alpha \\\\ \\epsilon \\gamma \\beta \\\\ \\epsilon \\delta \\alpha \\\\ \\epsilon \\delta \\beta \\\\ \\zeta \\gamma \\alpha \\\\ \\zeta \\gamma \\beta \\\\ \\zeta \\delta \\alpha \\\\ -\\zeta \\delta \\beta \\end{bmatrix} = \\begin{bmatrix} 0 \\times 1 \\times 1 = 0 \\\\ 0 \\times 1 \\times 0 = 0 \\\\ 0 \\times 0 \\times 1 = 0 \\\\ 0 \\times 0 \\times 0 = 0 \\\\ 1 \\times 1 \\times 1 = 1 \\\\ 1 \\times 1 \\times 0 = 0 \\\\ 1 \\times 0 \\times 1 = 0 \\\\ -1 \\times 0 \\times 0 = 0 \\end{bmatrix} = \\begin{bmatrix} 0 \\\\ 0 \\\\ 0 \\\\ 0 \\\\ 1 \\\\ 0 \\\\ 0 \\\\ 0 \\end{bmatrix} = | 100 \\rangle $\n",
    "    \n",
    "<br>\n",
    "<br>\n",
    "\n",
    "* For $ | \\psi_{c} \\psi_{b} \\psi_{a} \\rangle = | \\psi_{target} \\psi_{control-2} \\psi_{control-1} \\rangle = | 101 \\rangle $:\n",
    "\n",
    "    <br>\n",
    "\n",
    "    * $ | \\psi_{a} \\rangle = | \\psi_{control-1} \\rangle = \\begin{bmatrix} \\alpha = 0 \\\\ \\beta = 1 \\end{bmatrix} $ (**Control-Qubit #1**)\n",
    "\n",
    "    <br>\n",
    "\n",
    "    * $ | \\psi_{b} \\rangle = | \\psi_{control-2} \\rangle = \\begin{bmatrix} \\gamma = 1 \\\\ \\delta = 0 \\end{bmatrix} $ (**Control-Qubit #2**)\n",
    "\n",
    "    <br>\n",
    "\n",
    "    * $ | \\psi_{c} \\rangle = | \\psi_{target} \\rangle = \\begin{bmatrix} \\epsilon = 0 \\\\ \\zeta = 1 \\end{bmatrix} $ (**Target-Qubit**)\n",
    "\n",
    "    <br>\n",
    "\n",
    "    * $ CCZ| \\psi{c} \\psi_{b} \\psi_{a} \\rangle = CCZ| \\psi_{target} \\psi_{control-2} \\psi_{control-1} \\rangle = CZ| 101 \\rangle = \\begin{bmatrix} \\epsilon \\gamma \\alpha \\\\ \\epsilon \\gamma \\beta \\\\ \\epsilon \\delta \\alpha \\\\ \\epsilon \\delta \\beta \\\\ \\zeta \\gamma \\alpha \\\\ \\zeta \\gamma \\beta \\\\ \\zeta \\delta \\alpha \\\\ -\\zeta \\delta \\beta \\end{bmatrix} = \\begin{bmatrix} 0 \\times 1 \\times 0 = 0 \\\\ 0 \\times 1 \\times 1 = 0 \\\\ 0 \\times 0 \\times 0 = 0 \\\\ 0 \\times 0 \\times 1 = 0 \\\\ 1 \\times 1 \\times 0 = 0 \\\\ 1 \\times 1 \\times 1 = 1 \\\\ 1 \\times 0 \\times 0 = 0 \\\\ -1 \\times 0 \\times 1 = 0 \\end{bmatrix} = \\begin{bmatrix} 0 \\\\ 0 \\\\ 0 \\\\ 0 \\\\ 0 \\\\ 1 \\\\ 0 \\\\ 0 \\end{bmatrix} = | 101 \\rangle $\n",
    "    \n",
    "<br>\n",
    "<br>\n",
    "\n",
    "* For $ | \\psi_{c} \\psi_{b} \\psi_{a} \\rangle = | \\psi_{target} \\psi_{control-2} \\psi_{control-1} \\rangle = | 110 \\rangle $:\n",
    "\n",
    "    <br>\n",
    "\n",
    "    * $ | \\psi_{a} \\rangle = | \\psi_{control-1} \\rangle = \\begin{bmatrix} \\alpha = 1 \\\\ \\beta = 0 \\end{bmatrix} $ (**Control-Qubit #1**)\n",
    "\n",
    "    <br>\n",
    "\n",
    "    * $ | \\psi_{b} \\rangle = | \\psi_{control-2} \\rangle = \\begin{bmatrix} \\gamma = 0 \\\\ \\delta = 1 \\end{bmatrix} $ (**Control-Qubit #2**)\n",
    "\n",
    "    <br>\n",
    "\n",
    "    * $ | \\psi_{c} \\rangle = | \\psi_{target} \\rangle = \\begin{bmatrix} \\epsilon = 0 \\\\ \\zeta = 1 \\end{bmatrix} $ (**Target-Qubit**)\n",
    "\n",
    "    <br>\n",
    "\n",
    "    * $ CCZ| \\psi{c} \\psi_{b} \\psi_{a} \\rangle = CCZ| \\psi_{target} \\psi_{control-2} \\psi_{control-1} \\rangle = CZ| 110 \\rangle = \\begin{bmatrix} \\epsilon \\gamma \\alpha \\\\ \\epsilon \\gamma \\beta \\\\ \\epsilon \\delta \\alpha \\\\ \\epsilon \\delta \\beta \\\\ \\zeta \\gamma \\alpha \\\\ \\zeta \\gamma \\beta \\\\ \\zeta \\delta \\alpha \\\\ -\\zeta \\delta \\beta \\end{bmatrix} = \\begin{bmatrix} 0 \\times 0 \\times 1 = 0 \\\\ 0 \\times 0 \\times 0 = 0 \\\\ 0 \\times 1 \\times 1 = 0 \\\\ 0 \\times 1 \\times 0 = 0 \\\\ 1 \\times 0 \\times 1 = 0 \\\\ 1 \\times 0 \\times 0 = 0 \\\\ 1 \\times 1 \\times 1 = 1 \\\\ -1 \\times 1 \\times 0 = 0 \\end{bmatrix} = \\begin{bmatrix} 0 \\\\ 0 \\\\ 0 \\\\ 0 \\\\ 0 \\\\ 0 \\\\ 1 \\\\ 0 \\end{bmatrix} = | 110 \\rangle $\n",
    "    \n",
    "<br>\n",
    "<br>\n",
    "\n",
    "* For $ | \\psi_{c} \\psi_{b} \\psi_{a} \\rangle = | \\psi_{target} \\psi_{control-2} \\psi_{control-1} \\rangle = | 111 \\rangle $:\n",
    "\n",
    "    <br>\n",
    "\n",
    "    * $ | \\psi_{a} \\rangle = | \\psi_{control-1} \\rangle = \\begin{bmatrix} \\alpha = 0 \\\\ \\beta = 1 \\end{bmatrix} $ (**Control-Qubit #1**)\n",
    "\n",
    "    <br>\n",
    "\n",
    "    * $ | \\psi_{b} \\rangle = | \\psi_{control-2} \\rangle = \\begin{bmatrix} \\gamma = 0 \\\\ \\delta = 1 \\end{bmatrix} $ (**Control-Qubit #2**)\n",
    "\n",
    "    <br>\n",
    "\n",
    "    * $ | \\psi_{c} \\rangle = | \\psi_{target} \\rangle = \\begin{bmatrix} \\epsilon = 0 \\\\ \\zeta = 1 \\end{bmatrix} $ (**Target-Qubit**)\n",
    "\n",
    "    <br>\n",
    "\n",
    "    * $ CCZ| \\psi{c} \\psi_{b} \\psi_{a} \\rangle = CCZ| \\psi_{target} \\psi_{control-2} \\psi_{control-1} \\rangle = CZ| 111 \\rangle = \\begin{bmatrix} \\epsilon \\gamma \\alpha \\\\ \\epsilon \\gamma \\beta \\\\ \\epsilon \\delta \\alpha \\\\ \\epsilon \\delta \\beta \\\\ \\zeta \\gamma \\alpha \\\\ \\zeta \\gamma \\beta \\\\ \\zeta \\delta \\alpha \\\\ -\\zeta \\delta \\beta \\end{bmatrix} = \\begin{bmatrix} 0 \\times 0 \\times 0 = 0 \\\\ 0 \\times 0 \\times 1 = 0 \\\\ 0 \\times 1 \\times 0 = 0 \\\\ 0 \\times 1 \\times 1 = 0 \\\\ 1 \\times 0 \\times 0 = 0 \\\\ 1 \\times 0 \\times 1 = 0 \\\\ 1 \\times 1 \\times 0 = 0 \\\\ -1 \\times 1 \\times 1 = -1 \\end{bmatrix} = \\begin{bmatrix} 0 \\\\ 0 \\\\ 0 \\\\ 0 \\\\ 0 \\\\ 0 \\\\ 0 \\\\ -1 \\end{bmatrix} = -| 111 \\rangle $"
   ]
  },
  {
   "cell_type": "markdown",
   "metadata": {},
   "source": [
    "## **Implementing the Phase Oracle Circuit**\n",
    "\n",
    "An **Oracle** is a circuit that **\"detects\"** one of the **possible states** of the computer (the **searched element**) and changes the **sign** of the **wavefunction**, if the system is that **state**.\n",
    "\n",
    "This opearation is implemented by the function **\"phase_oracle\"**, which defines an **Oracle Unitary Transformation** that multiplies a state with $ (-1) $ **sign** only if the state corresponds to a certain database entry $s_1 s_2 s_3 s_4$. \n",
    "\n",
    "The state is selected by the argument **\"element\"**, which is a vector of numbers that defines the databse that the algorithm is searching for (e.g. **element** = $[0,0,1,0]$).\n",
    "\n",
    "Basically, the function implements the **Unitary Transformation**.\n",
    "\n",
    "* $ | x \\rangle \\to | x \\rangle \\ \\ {\\rm if } x \\neq element $\n",
    "\n",
    "* $ | x \\rangle \\to - |x \\rangle \\ \\ {\\rm if} x = element $\n",
    "\n",
    "The **function** relies on the **Multi-Qubit** [**Controlled Z-Gate**]() defined above.\n",
    "\n",
    "Remember, the latter adds a **sign** as long as $s = |1111\\rangle$. What we have to do is just to **flip** **Qubits** depending on the particular **search term** $ s $, apply the **Multi-Qubit Controlled Gate**, then undo the **Spin Flips**:\n",
    "\n",
    "* $ U_{oracle} = \\bigotimes_j X^{1 + s_j} U_{mqZ} \\bigotimes_j X^{1 + s_j} $"
   ]
  },
  {
   "cell_type": "code",
   "execution_count": 18,
   "metadata": {},
   "outputs": [],
   "source": [
    "def phase_oracle(circuit,qr,element):\n",
    "    \n",
    "    # Element is an Array that defines the searched Element,\n",
    "    # for example, Element = [0,1,0,1]\n",
    "    \n",
    "    for j,x in enumerate(element):\n",
    "        if (x == 0):\n",
    "            circuit.x(qr[j])\n",
    "    \n",
    "    circuit.barrier()\n",
    "    \n",
    "    n_controlled_Z(circuit,qr) \n",
    "    \n",
    "    circuit.barrier()\n",
    "    \n",
    "    for j,x in enumerate(element):\n",
    "        if (x == 0):\n",
    "            circuit.x(qr[j])"
   ]
  },
  {
   "cell_type": "markdown",
   "metadata": {},
   "source": [
    "### **Excercise 2**\n",
    "\n",
    "Check whether this **function** acts as expected.\n",
    "\n",
    "**Hint:**\n",
    "\n",
    "* You could, for example, make some **rotation** on one of the **Qubits** depend on whether the **wavefunction** gets the **right sign** or **not**;\n",
    "\n",
    "* Thus, when you **measure the final state**, you will detect whether the **right sign** has been added by looking at the **output**;"
   ]
  },
  {
   "cell_type": "markdown",
   "metadata": {},
   "source": [
    "### **Resolution for Excercise 2**"
   ]
  },
  {
   "cell_type": "markdown",
   "metadata": {},
   "source": [
    "Let's define an **auxiliary function**, to **mark** the desired **State**, we are looking for:"
   ]
  },
  {
   "cell_type": "code",
   "execution_count": 19,
   "metadata": {},
   "outputs": [],
   "source": [
    "def mark_state(element_test_state, testCircuit):\n",
    "    \n",
    "    for qubit_index, element in enumerate(element_test_state):\n",
    "        if element == 1:\n",
    "            testCircuit.x(qubit_index)\n",
    "    \n",
    "    testCircuit.barrier()"
   ]
  },
  {
   "cell_type": "markdown",
   "metadata": {},
   "source": []
  },
  {
   "cell_type": "markdown",
   "metadata": {},
   "source": [
    "For $ n = 2 $, the previous **function** acts as following:"
   ]
  },
  {
   "cell_type": "code",
   "execution_count": 20,
   "metadata": {},
   "outputs": [],
   "source": [
    "# Defining some tests, for the Phase Oracle, with n = 2\n",
    "\n",
    "#element_test_2_states = [0,0]\n",
    "\n",
    "element_test_2_states = [0,1]\n",
    "\n",
    "#element_test_2_states = [1,0]\n",
    "\n",
    "#element_test_2_states = [1,1]"
   ]
  },
  {
   "cell_type": "code",
   "execution_count": 21,
   "metadata": {},
   "outputs": [],
   "source": [
    "qr2 = QuantumRegister(2)\n",
    "\n",
    "testFunctionCircuit2 = QuantumCircuit(qr2)"
   ]
  },
  {
   "cell_type": "code",
   "execution_count": 22,
   "metadata": {},
   "outputs": [],
   "source": [
    "element_test_2_states_binary = ''.join(map(str,element_test_2_states))"
   ]
  },
  {
   "cell_type": "code",
   "execution_count": 23,
   "metadata": {},
   "outputs": [
    {
     "name": "stdout",
     "output_type": "stream",
     "text": [
      "The Marked State is: |01⟩\n"
     ]
    }
   ],
   "source": [
    "print(\"The Marked State is: |{}⟩\".format(element_test_2_states_binary))"
   ]
  },
  {
   "cell_type": "code",
   "execution_count": 24,
   "metadata": {},
   "outputs": [],
   "source": [
    "element_test_2_states.reverse()"
   ]
  },
  {
   "cell_type": "code",
   "execution_count": 25,
   "metadata": {},
   "outputs": [],
   "source": [
    "mark_state(element_test_2_states, testFunctionCircuit2)"
   ]
  },
  {
   "cell_type": "code",
   "execution_count": 26,
   "metadata": {},
   "outputs": [],
   "source": [
    "phase_oracle(testFunctionCircuit2,qr2,element_test_2_states)"
   ]
  },
  {
   "cell_type": "code",
   "execution_count": 27,
   "metadata": {},
   "outputs": [
    {
     "data": {
      "image/png": "[encoded data removed]",
      "text/plain": [
       "<Figure size 695.703x144.48 with 1 Axes>"
      ]
     },
     "execution_count": 27,
     "metadata": {},
     "output_type": "execute_result"
    }
   ],
   "source": [
    "testFunctionCircuit2.draw(output=\"mpl\")"
   ]
  },
  {
   "cell_type": "code",
   "execution_count": 28,
   "metadata": {},
   "outputs": [],
   "source": [
    "# Getting the Backend for the Statevector Representation\n",
    "# (i.e., the Quantum State represented as State Vector)\n",
    "statevector_backend = Aer.get_backend('statevector_simulator')\n",
    "final_state = execute(testFunctionCircuit2,statevector_backend).result().get_statevector()"
   ]
  },
  {
   "cell_type": "code",
   "execution_count": 29,
   "metadata": {
    "scrolled": true
   },
   "outputs": [
    {
     "data": {
      "text/latex": [
       "$\\displaystyle \n",
       "\\text{Final State for Marked State (Statevector) = }\n",
       "\\begin{bmatrix}\n",
       "0 \\\\\n",
       "-1 \\\\\n",
       "0 \\\\\n",
       "0\n",
       "\\end{bmatrix}\n",
       "$"
      ],
      "text/plain": [
       "<IPython.core.display.Math object>"
      ]
     },
     "metadata": {},
     "output_type": "display_data"
    }
   ],
   "source": [
    "array_to_latex(final_state, pretext=\"\\\\text{Final State for Marked State (Statevector) = }\\n\", precision = 1)"
   ]
  },
  {
   "cell_type": "markdown",
   "metadata": {},
   "source": []
  },
  {
   "cell_type": "markdown",
   "metadata": {},
   "source": [
    "For $ n = 3 $, the previous **function** acts as following:"
   ]
  },
  {
   "cell_type": "code",
   "execution_count": 30,
   "metadata": {},
   "outputs": [],
   "source": [
    "# Defining some tests, for the Phase Oracle, with n = 3\n",
    "\n",
    "#element_test_3_states = [0,0,0]\n",
    "\n",
    "#element_test_3_states = [0,0,1]\n",
    "\n",
    "#element_test_3_states = [0,1,0]\n",
    "\n",
    "element_test_3_states = [0,1,1]\n",
    "\n",
    "#element_test_3_states = [1,0,0]\n",
    "\n",
    "#element_test_3_states = [1,0,1]\n",
    "\n",
    "#element_test_3_states = [1,1,0]\n",
    "\n",
    "#element_test_3_states = [1,1,1]"
   ]
  },
  {
   "cell_type": "code",
   "execution_count": 31,
   "metadata": {},
   "outputs": [],
   "source": [
    "qr3 = QuantumRegister(3)\n",
    "\n",
    "testFunctionCircuit3 = QuantumCircuit(qr3)"
   ]
  },
  {
   "cell_type": "code",
   "execution_count": 32,
   "metadata": {},
   "outputs": [],
   "source": [
    "element_test_3_states_binary = ''.join(map(str,element_test_3_states))"
   ]
  },
  {
   "cell_type": "code",
   "execution_count": 33,
   "metadata": {},
   "outputs": [
    {
     "name": "stdout",
     "output_type": "stream",
     "text": [
      "The Marked State is: |011⟩\n"
     ]
    }
   ],
   "source": [
    "print(\"The Marked State is: |{}⟩\".format(element_test_3_states_binary))"
   ]
  },
  {
   "cell_type": "code",
   "execution_count": 34,
   "metadata": {},
   "outputs": [],
   "source": [
    "element_test_3_states.reverse()"
   ]
  },
  {
   "cell_type": "code",
   "execution_count": 35,
   "metadata": {},
   "outputs": [],
   "source": [
    "mark_state(element_test_3_states, testFunctionCircuit3)"
   ]
  },
  {
   "cell_type": "code",
   "execution_count": 36,
   "metadata": {},
   "outputs": [],
   "source": [
    "phase_oracle(testFunctionCircuit3,qr3,element_test_3_states)"
   ]
  },
  {
   "cell_type": "code",
   "execution_count": 37,
   "metadata": {},
   "outputs": [
    {
     "data": {
      "image/png": "[encoded data removed]",
      "text/plain": [
       "<Figure size 708.975x204.68 with 1 Axes>"
      ]
     },
     "execution_count": 37,
     "metadata": {},
     "output_type": "execute_result"
    }
   ],
   "source": [
    "testFunctionCircuit3.draw(output=\"mpl\")"
   ]
  },
  {
   "cell_type": "code",
   "execution_count": 38,
   "metadata": {},
   "outputs": [],
   "source": [
    "# Getting the Backend for the Statevector Representation\n",
    "# (i.e., the Quantum State represented as State Vector)\n",
    "statevector_backend = Aer.get_backend('statevector_simulator')\n",
    "final_state = execute(testFunctionCircuit3,statevector_backend).result().get_statevector()"
   ]
  },
  {
   "cell_type": "code",
   "execution_count": 39,
   "metadata": {
    "scrolled": true
   },
   "outputs": [
    {
     "data": {
      "text/latex": [
       "$\\displaystyle \n",
       "\\text{Final State for Marked State (Statevector) = }\n",
       "\\begin{bmatrix}\n",
       "0 \\\\\n",
       "0 \\\\\n",
       "0 \\\\\n",
       "-1 \\\\\n",
       "0 \\\\\n",
       "0 \\\\\n",
       "0 \\\\\n",
       "0\n",
       "\\end{bmatrix}\n",
       "$"
      ],
      "text/plain": [
       "<IPython.core.display.Math object>"
      ]
     },
     "metadata": {},
     "output_type": "display_data"
    }
   ],
   "source": [
    "array_to_latex(final_state, pretext=\"\\\\text{Final State for Marked State (Statevector) = }\\n\", precision = 1)"
   ]
  },
  {
   "cell_type": "markdown",
   "metadata": {},
   "source": []
  },
  {
   "cell_type": "markdown",
   "metadata": {},
   "source": [
    "For $ n = 4 $, the previous **function** acts as following:"
   ]
  },
  {
   "cell_type": "code",
   "execution_count": 40,
   "metadata": {},
   "outputs": [],
   "source": [
    "# Defining some tests, for the Phase Oracle, with n = 4\n",
    "\n",
    "#element_test_4_states = [0,0,0,0]\n",
    "\n",
    "#element_test_4_states = [0,0,0,1]\n",
    "\n",
    "#element_test_4_states = [0,0,1,0]\n",
    "\n",
    "#element_test_4_states = [0,0,1,1]\n",
    "\n",
    "#element_test_4_states = [0,1,0,0]\n",
    "\n",
    "#element_test_4_states = [0,1,0,1]\n",
    "\n",
    "#element_test_4_states = [0,1,1,0]\n",
    "\n",
    "#element_test_4_states = [0,1,1,1]\n",
    "\n",
    "#element_test_4_states = [1,0,0,0]\n",
    "\n",
    "#element_test_4_states = [1,0,0,1]\n",
    "\n",
    "element_test_4_states = [1,0,1,0]\n",
    "\n",
    "#element_test_4_states = [1,0,1,1]\n",
    "\n",
    "#element_test_4_states = [1,1,0,0]\n",
    "\n",
    "#element_test_4_states = [1,1,0,1]\n",
    "\n",
    "#element_test_4_states = [1,1,1,0]\n",
    "\n",
    "#element_test_4_states = [1,1,1,1]"
   ]
  },
  {
   "cell_type": "code",
   "execution_count": 41,
   "metadata": {},
   "outputs": [],
   "source": [
    "qr4 = QuantumRegister(4)\n",
    "\n",
    "testFunctionCircuit4 = QuantumCircuit(qr4)"
   ]
  },
  {
   "cell_type": "code",
   "execution_count": 42,
   "metadata": {},
   "outputs": [],
   "source": [
    "element_test_4_states_binary = ''.join(map(str,element_test_4_states))"
   ]
  },
  {
   "cell_type": "code",
   "execution_count": 43,
   "metadata": {},
   "outputs": [
    {
     "name": "stdout",
     "output_type": "stream",
     "text": [
      "The Marked State is: |1010⟩\n"
     ]
    }
   ],
   "source": [
    "print(\"The Marked State is: |{}⟩\".format(element_test_4_states_binary))"
   ]
  },
  {
   "cell_type": "code",
   "execution_count": 44,
   "metadata": {},
   "outputs": [],
   "source": [
    "element_test_4_states.reverse()"
   ]
  },
  {
   "cell_type": "code",
   "execution_count": 45,
   "metadata": {},
   "outputs": [],
   "source": [
    "mark_state(element_test_4_states, testFunctionCircuit4)"
   ]
  },
  {
   "cell_type": "code",
   "execution_count": 46,
   "metadata": {},
   "outputs": [],
   "source": [
    "phase_oracle(testFunctionCircuit4,qr4,element_test_4_states)"
   ]
  },
  {
   "cell_type": "code",
   "execution_count": 47,
   "metadata": {},
   "outputs": [
    {
     "data": {
      "image/png": "[encoded data removed]",
      "text/plain": [
       "<Figure size 1672.17x565.88 with 1 Axes>"
      ]
     },
     "execution_count": 47,
     "metadata": {},
     "output_type": "execute_result"
    }
   ],
   "source": [
    "testFunctionCircuit4.draw(output=\"mpl\")"
   ]
  },
  {
   "cell_type": "code",
   "execution_count": 48,
   "metadata": {},
   "outputs": [],
   "source": [
    "# Getting the Backend for the Statevector Representation\n",
    "# (i.e., the Quantum State represented as State Vector)\n",
    "statevector_backend = Aer.get_backend('statevector_simulator')\n",
    "final_state = execute(testFunctionCircuit4,statevector_backend).result().get_statevector()"
   ]
  },
  {
   "cell_type": "code",
   "execution_count": 49,
   "metadata": {
    "scrolled": true
   },
   "outputs": [
    {
     "data": {
      "text/latex": [
       "$\\displaystyle \n",
       "\\text{Final State for Marked State (Statevector) = }\n",
       "\\begin{bmatrix}\n",
       "0 \\\\\n",
       "0 \\\\\n",
       "0 \\\\\n",
       "0 \\\\\n",
       "0 \\\\\n",
       "0 \\\\\n",
       "0 \\\\\n",
       "0 \\\\\n",
       "0 \\\\\n",
       "0 \\\\\n",
       "-1 \\\\\n",
       "0 \\\\\n",
       "0 \\\\\n",
       "0 \\\\\n",
       "0 \\\\\n",
       "0\n",
       "\\end{bmatrix}\n",
       "$"
      ],
      "text/plain": [
       "<IPython.core.display.Math object>"
      ]
     },
     "metadata": {},
     "output_type": "display_data"
    }
   ],
   "source": [
    "array_to_latex(final_state, pretext=\"\\\\text{Final State for Marked State (Statevector) = }\\n\", precision = 1)"
   ]
  },
  {
   "cell_type": "markdown",
   "metadata": {},
   "source": []
  },
  {
   "cell_type": "markdown",
   "metadata": {},
   "source": [
    "## **Implementation of the Inversion Operator**\n",
    "\n",
    "The function below implements the **Inversion Unitary**, which is the second part of the **Grover Operator**. \n",
    "This function is a reflection around the state $|\\psi\\rangle$, that is defined as:\n",
    "\n",
    "* $ |\\psi\\rangle = H^{\\otimes n} |0\\rangle_1 |0\\rangle_2 \\dots |0\\rangle_n = \\frac{1}{\\sqrt{2^n}} \n",
    "\\sum_{s_1,\\dots,s_n} |s_1 \\rangle \\dots  |s_n \\rangle $\n",
    "\n",
    "**Note:**\n",
    "* See [**Diego**]()'s talk or this [**webpage**](https://qiskit.org/textbook/ch-algorithms/grover.html);\n",
    "\n",
    "<br>\n",
    "\n",
    "The inversion is implemented by the following **Unitary**:\n",
    "\n",
    "* $ U_{inv} = H^{\\otimes n} (-2 |00 \\dots 00\\rangle \\langle 00 \\dots 00 | + {\\mathbf I}) H^{\\otimes n} $\n",
    "\n",
    "<br>\n",
    "\n",
    "As you can see, it is basically identically to the **Multi-Qubit** [**Controlled-Z Gate**]() that we introduced above."
   ]
  },
  {
   "cell_type": "code",
   "execution_count": 50,
   "metadata": {},
   "outputs": [],
   "source": [
    "def inversion_about_average(circuit, register, n):\n",
    "    \n",
    "    # Apply Inversion Operator about the Average step of Grover's Algorithm\n",
    "    \n",
    "    circuit.h(qr)\n",
    "    circuit.x(qr)\n",
    "    \n",
    "    n_controlled_Z(circuit, qr)\n",
    "    \n",
    "    circuit.x(qr)\n",
    "    circuit.h(qr)"
   ]
  },
  {
   "cell_type": "code",
   "execution_count": 51,
   "metadata": {},
   "outputs": [
    {
     "data": {
      "image/png": "[encoded data removed]",
      "text/plain": [
       "<Figure size 1612.12x264.88 with 1 Axes>"
      ]
     },
     "execution_count": 51,
     "metadata": {},
     "output_type": "execute_result"
    }
   ],
   "source": [
    "# Now, let's plot the Quantum Circuit for the Quantum Average\n",
    "qr = QuantumRegister(4)\n",
    "\n",
    "qAverage = QuantumCircuit(qr)\n",
    "\n",
    "inversion_about_average(qAverage, qr, 4)\n",
    "\n",
    "qAverage.draw(output='mpl')"
   ]
  },
  {
   "cell_type": "markdown",
   "metadata": {},
   "source": [
    "## **Implementation of Grover's Algorithm**\n",
    "\n",
    "We are in a position now to implement [**Grover's Algorithm**](https://en.wikipedia.org/wiki/Grover%27s_algorithm). We can tune the parameter $R$ = number of applications of the [**Grover**](https://en.wikipedia.org/wiki/Grover%27s_algorithm)**'s Transformation** and $N = 2,3,4$ **Qubits**."
   ]
  },
  {
   "cell_type": "markdown",
   "metadata": {},
   "source": [
    "### **Excercise 3** \n",
    "Use the subroutines above and write down a **Quantum Circuit** that implements [**Grover's Algorithm**]() with $n = 2, 3, 4$ **Qubits**, and a given number of repetitions $R$, and searched element $= [s_1, s_2, \\dots]$"
   ]
  },
  {
   "cell_type": "markdown",
   "metadata": {},
   "source": [
    "### **Resolution for Excercise 3**"
   ]
  },
  {
   "cell_type": "code",
   "execution_count": 52,
   "metadata": {},
   "outputs": [],
   "source": [
    "def grover_algorithm(quantumCircuit,quantumRegister,element,n):\n",
    "    phase_oracle(quantumCircuit,quantumRegister, element)\n",
    "    inversion_about_average(quantumCircuit, quantumRegister, n)"
   ]
  },
  {
   "cell_type": "markdown",
   "metadata": {},
   "source": [
    "### **Excercise 4**\n",
    "\n",
    "Explore aspects of the [**Grover's Algorithm**](https://en.wikipedia.org/wiki/Grover%27s_algorithm) such as the efficiency as a function of the number of repetions, $R$, or the number of measurements that you need to carry out to measure the searched element."
   ]
  }
 ],
 "metadata": {
  "celltoolbar": "Slideshow",
  "kernelspec": {
   "display_name": "Python 3",
   "language": "python",
   "name": "python3"
  },
  "language_info": {
   "codemirror_mode": {
    "name": "ipython",
    "version": 3
   },
   "file_extension": ".py",
   "mimetype": "text/x-python",
   "name": "python",
   "nbconvert_exporter": "python",
   "pygments_lexer": "ipython3",
   "version": "3.7.8"
  }
 },
 "nbformat": 4,
 "nbformat_minor": 2
}
