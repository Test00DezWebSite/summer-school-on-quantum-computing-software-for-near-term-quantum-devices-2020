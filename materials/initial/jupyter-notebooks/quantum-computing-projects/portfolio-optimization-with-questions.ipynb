{
 "cells": [
  {
   "cell_type": "markdown",
   "metadata": {},
   "source": [
    "This notebook part of the Qiskit documentation (plus some additional comments by the organizers of the school).\n",
    "\n",
    "The notebook addresses a well-known problem in finance known as Portolio Optimization. This problem can be mapped to a QUBO (Quadratic Unconstrained Binary Optimization) problem and, thus, it is amenable to be solved by a quantum computer. This application is described below in very mathematical terms, however, the practical meaning of the quantities and ideas involved should be clearer after Stefan Woerner's seminar on Wednesday.\n",
    "\n",
    "Contrary to other small projects, here you will not be involved in the details of the quantum circuit, but rather with the application of quantum computing to a particular problem. The idea is to carry out numerical experiments that show how a quantum computer will work in practice.\n",
    "\n",
    "We propose that you address the following questions:\n",
    "\n",
    "- 1) Look up the portfolio optimization problem (e.g. with a Google search) to get an intuitive understanding of it.\n",
    "\n",
    "Two sources that you can start with are [wikipedia](https://en.wikipedia.org/wiki/Modern_portfolio_theory) and our some of our own speakers' papers (e.g. this one by [Roman Orus](https://arxiv.org/abs/1807.03890) or [S. Woerner](https://arxiv.org/abs/1907.04769))\n",
    "\n",
    "- 2) Experiment with the VQE and QAOA algorithms to address what is the efficiency of the algorithms as a function of the circuit depth.\n",
    "\n",
    "- 3) Try out the different possibilities to create entanglement in the VQE algorithm and find out which is the most efficient.\n",
    "\n",
    "- 4) Explore the scaling of the problem as a function of the number of assets."
   ]
  },
  {
   "cell_type": "markdown",
   "metadata": {},
   "source": [
    "# _*Portfolio Optimization*_ \n"
   ]
  },
  {
   "cell_type": "markdown",
   "metadata": {},
   "source": [
    "## Introduction\n",
    "\n",
    "This tutorial shows how to solve the following mean-variance portfolio optimization problem for $n$ assets:\n",
    "\n",
    "$\\begin{aligned}\n",
    "\\min_{x \\in \\{0, 1\\}^n}  q x^T \\Sigma x - \\mu^T x\\\\\n",
    "\\text{subject to: } 1^T x = B\n",
    "\\end{aligned}$\n",
    "\n",
    "where we use the following notation:\n",
    "\n",
    "- $x \\in \\{0, 1\\}^n$ denotes the vector of binary decision variables, which indicate which assets to pick ($x[i] = 1$) and which not to pick ($x[i] = 0$),\n",
    "- $\\mu \\in \\mathbb{R}^n$ defines the expected returns for the assets,\n",
    "- $\\Sigma \\in \\mathbb{R}^{n \\times n}$ specifies the covariances between the assets,\n",
    "- $q > 0$ controls the risk appetite of the decision maker,\n",
    "- and $B$ denotes the budget, i.e. the number of assets to be selected out of $n$.\n",
    "\n",
    "We assume the following simplifications:\n",
    "- all assets have the same price (normalized to 1),\n",
    "- the full budget $B$ has to be spent, i.e. one has to select exactly $B$ assets.\n",
    "\n",
    "The equality constraint $1^T x = B$ is mapped to a penalty term $(1^T x - B)^2$ which is scaled by a parameter and subtracted from the objective function. \n",
    "The resulting problem can be mapped to a Hamiltonian whose ground state corresponds to  the optimal solution.\n",
    "This notebook shows how to use the Variational Quantum Eigensolver (VQE) or the Quantum Approximate Optimization Algorithm (QAOA) to find the optimal solution for a given set of parameters.\n",
    "\n",
    "Experiments on real quantum hardware for this problem are reported for instance in the following paper:\n",
    "<br>\n",
    "<a href=\"https://arxiv.org/abs/1907.04769\">Improving Variational Quantum Optimization using CVaR. Barkoutsos et al. 2019.</a>"
   ]
  },
  {
   "cell_type": "code",
   "execution_count": 29,
   "metadata": {
    "ExecuteTime": {
     "end_time": "2020-07-13T20:35:05.710593Z",
     "start_time": "2020-07-13T20:34:57.647535Z"
    }
   },
   "outputs": [],
   "source": [
    "from qiskit import Aer\n",
    "from qiskit.circuit.library import TwoLocal\n",
    "from qiskit.aqua import QuantumInstance\n",
    "from qiskit.finance.applications.ising import portfolio\n",
    "from qiskit.optimization.applications.ising.common import sample_most_likely\n",
    "from qiskit.finance.data_providers import RandomDataProvider\n",
    "from qiskit.aqua.algorithms import VQE, QAOA, NumPyMinimumEigensolver\n",
    "from qiskit.aqua.components.optimizers import COBYLA\n",
    "import numpy as np\n",
    "import warnings\n",
    "import matplotlib.pyplot as plt\n",
    "import datetime\n",
    "\n",
    "warnings.filterwarnings('ignore')"
   ]
  },
  {
   "cell_type": "markdown",
   "metadata": {},
   "source": [
    "### [Optional] Setup token to run the experiment on a real device\n",
    "If you would like to run the experiment on a real device, you need to setup your account first.\n",
    "\n",
    "Note: If you do not store your token yet, use `IBMQ.save_account('MY_API_TOKEN')` to store it first."
   ]
  },
  {
   "cell_type": "markdown",
   "metadata": {},
   "source": [
    "## Define problem instance\n",
    "\n",
    "Here an Operator instance is created for our Hamiltonian. In this case the paulis are from an Ising Hamiltonian translated from the portfolio problem. We use a random portfolio problem for this notebook. It is straight-forward to extend this to using real financial data as illustrated here:<br>\n",
    "[Loading and Processing Stock-Market Time-Series Data](11_time_series.ipynb)"
   ]
  },
  {
   "cell_type": "code",
   "execution_count": 30,
   "metadata": {
    "ExecuteTime": {
     "end_time": "2020-07-13T20:35:15.224327Z",
     "start_time": "2020-07-13T20:35:15.213892Z"
    }
   },
   "outputs": [],
   "source": [
    "# set number of assets (= number of qubits)\n",
    "num_assets = 5\n",
    "\n",
    "# Generate expected return and covariance matrix from (random) time-series\n",
    "stocks = [(\"TICKER%s\" % i) for i in range(num_assets)]\n",
    "data = RandomDataProvider(tickers=stocks,\n",
    "                 start=datetime.datetime(2016,1,1),\n",
    "                 end=datetime.datetime(2016,1,30))\n",
    "data.run()\n",
    "mu = data.get_period_return_mean_vector()\n",
    "sigma = data.get_period_return_covariance_matrix()"
   ]
  },
  {
   "cell_type": "code",
   "execution_count": 31,
   "metadata": {
    "tags": [
     "nbsphinx-thumbnail"
    ]
   },
   "outputs": [
    {
     "data": {
      "image/png": "[encoded data removed]",
      "text/plain": [
       "<Figure size 432x288 with 1 Axes>"
      ]
     },
     "metadata": {
      "needs_background": "light"
     },
     "output_type": "display_data"
    }
   ],
   "source": [
    "# plot sigma\n",
    "plt.imshow(sigma, interpolation='nearest')\n",
    "plt.show()"
   ]
  },
  {
   "cell_type": "code",
   "execution_count": 32,
   "metadata": {
    "ExecuteTime": {
     "end_time": "2020-07-13T20:35:15.231767Z",
     "start_time": "2020-07-13T20:35:15.226490Z"
    }
   },
   "outputs": [],
   "source": [
    "q = 0.5                   # set risk factor\n",
    "budget = num_assets // 2  # set budget\n",
    "penalty = num_assets      # set parameter to scale the budget penalty term\n",
    "qubitOp, offset = portfolio.get_operator(mu, sigma, q, budget, penalty)"
   ]
  },
  {
   "cell_type": "markdown",
   "metadata": {},
   "source": [
    "We define some utility methods to print the results in a nice format."
   ]
  },
  {
   "cell_type": "code",
   "execution_count": 33,
   "metadata": {
    "ExecuteTime": {
     "end_time": "2020-07-13T20:35:15.243604Z",
     "start_time": "2020-07-13T20:35:15.233567Z"
    }
   },
   "outputs": [],
   "source": [
    "def index_to_selection(i, num_assets):\n",
    "    s = \"{0:b}\".format(i).rjust(num_assets)\n",
    "    x = np.array([1 if s[i]=='1' else 0 for i in reversed(range(num_assets))])\n",
    "    return x\n",
    "\n",
    "def print_result(result):\n",
    "    selection = sample_most_likely(result.eigenstate)\n",
    "    value = portfolio.portfolio_value(selection, mu, sigma, q, budget, penalty)\n",
    "    print('Optimal: selection {}, value {:.4f}'.format(selection, value))\n",
    "        \n",
    "    eigenvector = result.eigenstate if isinstance(result.eigenstate, np.ndarray) else result.eigenstate.to_matrix()\n",
    "    probabilities = np.abs(eigenvector)**2\n",
    "    i_sorted = reversed(np.argsort(probabilities))\n",
    "    print('\\n----------------- Full result ---------------------')\n",
    "    print('selection\\tvalue\\t\\tprobability')\n",
    "    print('---------------------------------------------------')\n",
    "    for i in i_sorted:\n",
    "        x = index_to_selection(i, num_assets)\n",
    "        value = portfolio.portfolio_value(x, mu, sigma, q, budget, penalty)    \n",
    "        probability = probabilities[i]\n",
    "        print('%10s\\t%.4f\\t\\t%.4f' %(x, value, probability))"
   ]
  },
  {
   "cell_type": "markdown",
   "metadata": {},
   "source": [
    "## NumPyMinimumEigensolver (as a classical reference)\n",
    "Lets solve the problem. First classically...\n",
    "\n",
    "We can now use the Operator we built above without regard to the specifics of how it was created. We set the algorithm for the NumPyMinimumEigensolver so we can have a classical reference. The problem is set for 'ising'. Backend is not required since this is computed classically not using quantum computation. The result is returned as a dictionary."
   ]
  },
  {
   "cell_type": "code",
   "execution_count": 34,
   "metadata": {
    "ExecuteTime": {
     "end_time": "2020-07-13T20:35:15.264319Z",
     "start_time": "2020-07-13T20:35:15.245811Z"
    }
   },
   "outputs": [
    {
     "name": "stdout",
     "output_type": "stream",
     "text": [
      "Optimal: selection [0 1 0 0 1], value -0.0164\n",
      "\n",
      "----------------- Full result ---------------------\n",
      "selection\tvalue\t\tprobability\n",
      "---------------------------------------------------\n",
      "[0 1 0 0 1]\t-0.0164\t\t1.0000\n",
      "[1 1 1 1 1]\t44.9918\t\t0.0000\n",
      "[0 1 1 1 0]\t4.9895\t\t0.0000\n",
      "[1 0 0 0 0]\t5.0087\t\t0.0000\n",
      "[0 1 0 0 0]\t4.9900\t\t0.0000\n",
      "[1 1 0 0 0]\t-0.0012\t\t0.0000\n",
      "[0 0 1 0 0]\t5.0034\t\t0.0000\n",
      "[1 0 1 0 0]\t0.0118\t\t0.0000\n",
      "[0 1 1 0 0]\t-0.0065\t\t0.0000\n",
      "[1 1 1 0 0]\t5.0021\t\t0.0000\n",
      "[0 0 0 1 0]\t4.9961\t\t0.0000\n",
      "[1 0 0 1 0]\t0.0049\t\t0.0000\n",
      "[0 1 0 1 0]\t-0.0140\t\t0.0000\n",
      "[1 1 0 1 0]\t4.9949\t\t0.0000\n",
      "[0 0 1 1 0]\t-0.0005\t\t0.0000\n",
      "[1 0 1 1 0]\t5.0079\t\t0.0000\n",
      "[1 1 1 1 0]\t19.9981\t\t0.0000\n",
      "[0 1 1 1 1]\t19.9832\t\t0.0000\n",
      "[0 0 0 0 1]\t4.9936\t\t0.0000\n",
      "[1 0 0 0 1]\t0.0023\t\t0.0000\n",
      "[1 1 0 0 1]\t4.9925\t\t0.0000\n",
      "[0 0 1 0 1]\t-0.0030\t\t0.0000\n",
      "[1 0 1 0 1]\t5.0054\t\t0.0000\n",
      "[0 1 1 0 1]\t4.9872\t\t0.0000\n",
      "[1 1 1 0 1]\t19.9957\t\t0.0000\n",
      "[0 0 0 1 1]\t-0.0102\t\t0.0000\n",
      "[1 0 0 1 1]\t4.9985\t\t0.0000\n",
      "[0 1 0 1 1]\t4.9797\t\t0.0000\n",
      "[1 1 0 1 1]\t19.9886\t\t0.0000\n",
      "[0 0 1 1 1]\t4.9931\t\t0.0000\n",
      "[1 0 1 1 1]\t20.0016\t\t0.0000\n",
      "[0 0 0 0 0]\t20.0000\t\t0.0000\n"
     ]
    }
   ],
   "source": [
    "exact_eigensolver = NumPyMinimumEigensolver(qubitOp)\n",
    "result = exact_eigensolver.run()\n",
    "\n",
    "print_result(result)"
   ]
  },
  {
   "cell_type": "markdown",
   "metadata": {},
   "source": [
    "## Solution using VQE\n",
    "We can now use the Variational Quantum Eigensolver (VQE) to solve the problem. We will specify the optimizer and variational form to be used.\n",
    "\n",
    "Note: You can switch to different backends by providing the name of backend."
   ]
  },
  {
   "cell_type": "code",
   "execution_count": 41,
   "metadata": {
    "ExecuteTime": {
     "end_time": "2020-07-13T20:35:26.536878Z",
     "start_time": "2020-07-13T20:35:24.379996Z"
    }
   },
   "outputs": [
    {
     "name": "stdout",
     "output_type": "stream",
     "text": [
      "Optimal: selection [0. 1. 1. 0. 0.], value -0.0065\n",
      "\n",
      "----------------- Full result ---------------------\n",
      "selection\tvalue\t\tprobability\n",
      "---------------------------------------------------\n",
      "[0 1 1 0 0]\t-0.0065\t\t0.4926\n",
      "[1 0 0 1 0]\t0.0049\t\t0.2985\n",
      "[0 1 0 1 0]\t-0.0140\t\t0.1426\n",
      "[1 0 1 0 0]\t0.0118\t\t0.0661\n",
      "[0 0 0 1 1]\t-0.0102\t\t0.0001\n",
      "[1 1 1 0 1]\t19.9957\t\t0.0001\n",
      "[0 0 1 0 1]\t-0.0030\t\t0.0000\n",
      "[1 0 1 0 1]\t5.0054\t\t0.0000\n",
      "[1 1 0 1 1]\t19.9886\t\t0.0000\n",
      "[0 1 0 1 1]\t4.9797\t\t0.0000\n",
      "[0 0 0 1 0]\t4.9961\t\t0.0000\n",
      "[1 0 0 1 1]\t4.9985\t\t0.0000\n",
      "[0 1 1 1 1]\t19.9832\t\t0.0000\n",
      "[1 1 1 0 0]\t5.0021\t\t0.0000\n",
      "[1 0 0 0 1]\t0.0023\t\t0.0000\n",
      "[0 1 0 0 1]\t-0.0164\t\t0.0000\n",
      "[0 0 1 0 0]\t5.0034\t\t0.0000\n",
      "[1 1 0 1 0]\t4.9949\t\t0.0000\n",
      "[0 1 1 1 0]\t4.9895\t\t0.0000\n",
      "[0 1 0 0 0]\t4.9900\t\t0.0000\n",
      "[1 0 1 1 1]\t20.0016\t\t0.0000\n",
      "[0 0 0 0 0]\t20.0000\t\t0.0000\n",
      "[1 1 1 1 0]\t19.9981\t\t0.0000\n",
      "[1 0 1 1 0]\t5.0079\t\t0.0000\n",
      "[0 0 1 1 0]\t-0.0005\t\t0.0000\n",
      "[1 0 0 0 0]\t5.0087\t\t0.0000\n",
      "[1 1 0 0 0]\t-0.0012\t\t0.0000\n",
      "[0 1 1 0 1]\t4.9872\t\t0.0000\n",
      "[0 0 0 0 1]\t4.9936\t\t0.0000\n",
      "[1 1 1 1 1]\t44.9918\t\t0.0000\n",
      "[0 0 1 1 1]\t4.9931\t\t0.0000\n",
      "[1 1 0 0 1]\t4.9925\t\t0.0000\n"
     ]
    }
   ],
   "source": [
    "backend = Aer.get_backend('statevector_simulator')\n",
    "seed = 50\n",
    "\n",
    "cobyla = COBYLA()\n",
    "cobyla.set_options(maxiter=500)\n",
    "ry = TwoLocal(qubitOp.num_qubits, 'ry', 'cz', reps=5, entanglement='linear')\n",
    "vqe = VQE(qubitOp, ry, cobyla)\n",
    "vqe.random_seed = seed\n",
    "\n",
    "quantum_instance = QuantumInstance(backend=backend, seed_simulator=seed, seed_transpiler=seed)\n",
    "\n",
    "result = vqe.run(quantum_instance)\n",
    "\n",
    "print_result(result)"
   ]
  },
  {
   "cell_type": "markdown",
   "metadata": {},
   "source": [
    "### Solution using QAOA\n",
    "\n",
    "We also show here a result using the Quantum Approximate Optimization Algorithm (QAOA). This is another variational algorithm and it uses an internal variational form that is created based on the problem."
   ]
  },
  {
   "cell_type": "code",
   "execution_count": 36,
   "metadata": {
    "ExecuteTime": {
     "end_time": "2020-07-13T20:35:28.570970Z",
     "start_time": "2020-07-13T20:35:26.539093Z"
    }
   },
   "outputs": [
    {
     "name": "stdout",
     "output_type": "stream",
     "text": [
      "Optimal: selection [1. 0. 1. 1. 0.], value 5.0079\n",
      "\n",
      "----------------- Full result ---------------------\n",
      "selection\tvalue\t\tprobability\n",
      "---------------------------------------------------\n",
      "[1 0 1 1 0]\t5.0079\t\t0.0681\n",
      "[1 0 1 0 1]\t5.0054\t\t0.0681\n",
      "[1 1 1 0 0]\t5.0021\t\t0.0680\n",
      "[1 0 0 1 1]\t4.9985\t\t0.0679\n",
      "[1 1 0 1 0]\t4.9949\t\t0.0678\n",
      "[0 0 1 1 1]\t4.9931\t\t0.0677\n",
      "[1 1 0 0 1]\t4.9925\t\t0.0677\n",
      "[0 1 1 1 0]\t4.9895\t\t0.0677\n",
      "[0 1 1 0 1]\t4.9872\t\t0.0676\n",
      "[0 1 0 1 1]\t4.9797\t\t0.0674\n",
      "[1 0 1 0 0]\t0.0118\t\t0.0261\n",
      "[1 0 0 1 0]\t0.0049\t\t0.0260\n",
      "[1 0 0 0 1]\t0.0023\t\t0.0259\n",
      "[0 0 1 1 0]\t-0.0005\t\t0.0258\n",
      "[1 1 0 0 0]\t-0.0012\t\t0.0258\n",
      "[0 0 1 0 1]\t-0.0030\t\t0.0258\n",
      "[0 1 1 0 0]\t-0.0065\t\t0.0257\n",
      "[0 0 0 1 1]\t-0.0102\t\t0.0256\n",
      "[0 1 0 1 0]\t-0.0140\t\t0.0255\n",
      "[0 1 0 0 1]\t-0.0164\t\t0.0255\n",
      "[1 0 1 1 1]\t20.0016\t\t0.0125\n",
      "[1 1 1 1 0]\t19.9981\t\t0.0124\n",
      "[1 1 1 0 1]\t19.9957\t\t0.0124\n",
      "[1 1 0 1 1]\t19.9886\t\t0.0123\n",
      "[0 1 1 1 1]\t19.9832\t\t0.0122\n",
      "[1 1 1 1 1]\t44.9918\t\t0.0016\n",
      "[0 0 0 0 0]\t20.0000\t\t0.0004\n",
      "[1 0 0 0 0]\t5.0087\t\t0.0001\n",
      "[0 0 1 0 0]\t5.0034\t\t0.0001\n",
      "[0 0 0 1 0]\t4.9961\t\t0.0001\n",
      "[0 0 0 0 1]\t4.9936\t\t0.0001\n",
      "[0 1 0 0 0]\t4.9900\t\t0.0001\n"
     ]
    }
   ],
   "source": [
    "backend = Aer.get_backend('statevector_simulator')\n",
    "seed = 50\n",
    "\n",
    "cobyla = COBYLA()\n",
    "cobyla.set_options(maxiter=250)\n",
    "qaoa = QAOA(qubitOp, cobyla, 3)\n",
    "\n",
    "qaoa.random_seed = seed\n",
    "\n",
    "quantum_instance = QuantumInstance(backend=backend, seed_simulator=seed, seed_transpiler=seed)\n",
    "\n",
    "result = qaoa.run(quantum_instance)\n",
    "\n",
    "print_result(result)"
   ]
  },
  {
   "cell_type": "code",
   "execution_count": 37,
   "metadata": {
    "ExecuteTime": {
     "end_time": "2020-07-13T20:35:29.079589Z",
     "start_time": "2020-07-13T20:35:28.573543Z"
    }
   },
   "outputs": [
    {
     "data": {
      "text/html": [
       "<h3>Version Information</h3><table><tr><th>Qiskit Software</th><th>Version</th></tr><tr><td>Qiskit</td><td>0.19.6</td></tr><tr><td>Terra</td><td>0.14.2</td></tr><tr><td>Aer</td><td>0.5.2</td></tr><tr><td>Ignis</td><td>0.3.3</td></tr><tr><td>Aqua</td><td>0.7.3</td></tr><tr><td>IBM Q Provider</td><td>0.7.2</td></tr><tr><th>System information</th></tr><tr><td>Python</td><td>3.7.8 | packaged by conda-forge | (default, Jul 23 2020, 03:54:19) \n",
       "[GCC 7.5.0]</td></tr><tr><td>OS</td><td>Linux</td></tr><tr><td>CPUs</td><td>8</td></tr><tr><td>Memory (Gb)</td><td>31.40900421142578</td></tr><tr><td colspan='2'>Sun Aug 16 21:53:38 2020 UTC</td></tr></table>"
      ],
      "text/plain": [
       "<IPython.core.display.HTML object>"
      ]
     },
     "metadata": {},
     "output_type": "display_data"
    },
    {
     "data": {
      "text/html": [
       "<div style='width: 100%; background-color:#d5d9e0;padding-left: 10px; padding-bottom: 10px; padding-right: 10px; padding-top: 5px'><h3>This code is a part of Qiskit</h3><p>&copy; Copyright IBM 2017, 2020.</p><p>This code is licensed under the Apache License, Version 2.0. You may<br>obtain a copy of this license in the LICENSE.txt file in the root directory<br> of this source tree or at http://www.apache.org/licenses/LICENSE-2.0.<p>Any modifications or derivative works of this code must retain this<br>copyright notice, and modified files need to carry a notice indicating<br>that they have been altered from the originals.</p></div>"
      ],
      "text/plain": [
       "<IPython.core.display.HTML object>"
      ]
     },
     "metadata": {},
     "output_type": "display_data"
    }
   ],
   "source": [
    "import qiskit.tools.jupyter\n",
    "%qiskit_version_table\n",
    "%qiskit_copyright"
   ]
  }
 ],
 "metadata": {
  "celltoolbar": "Tags",
  "kernelspec": {
   "display_name": "Python 3",
   "language": "python",
   "name": "python3"
  },
  "language_info": {
   "codemirror_mode": {
    "name": "ipython",
    "version": 3
   },
   "file_extension": ".py",
   "mimetype": "text/x-python",
   "name": "python",
   "nbconvert_exporter": "python",
   "pygments_lexer": "ipython3",
   "version": "3.7.3"
  },
  "varInspector": {
   "cols": {
    "lenName": 16,
    "lenType": 16,
    "lenVar": 40
   },
   "kernels_config": {
    "python": {
     "delete_cmd_postfix": "",
     "delete_cmd_prefix": "del ",
     "library": "var_list.py",
     "varRefreshCmd": "print(var_dic_list())"
    },
    "r": {
     "delete_cmd_postfix": ") ",
     "delete_cmd_prefix": "rm(",
     "library": "var_list.r",
     "varRefreshCmd": "cat(var_dic_list()) "
    }
   },
   "types_to_exclude": [
    "module",
    "function",
    "builtin_function_or_method",
    "instance",
    "_Feature"
   ],
   "window_display": false
  }
 },
 "nbformat": 4,
 "nbformat_minor": 4
}
