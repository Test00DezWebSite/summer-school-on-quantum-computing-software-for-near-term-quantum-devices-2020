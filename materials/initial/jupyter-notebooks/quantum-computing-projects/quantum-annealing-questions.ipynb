{
 "cells": [
  {
   "cell_type": "markdown",
   "metadata": {},
   "source": [
    "# Implementation of Quantum Annealing in QISKIT\n",
    "\n",
    "We aim to implement in a circuit model a quantum annealing process that searches for the ground state of an Ising Hamiltonian. This is not an usual task in a real (digital) quantum computer like the ones available through the IBM Q system. It is normally more efficient to physically build a quantum device that implements this Hamiltonian (e.g. the D-Wave machine). \n",
    "\n",
    "However, explicilty inducing quantum dynamics associated to the quantum Ising Hamiltonian is a pedagogical exercise that will teach you very useful ideas on quantum simulation and variational quantum computing.\n",
    "\n",
    "The Ising interaction Hamiltonian takes the form\n",
    "\n",
    "$$ H_{Ising}  = \\frac{1}{2} \\sum_{j,k} J_{j k} \\sigma^z_j \\sigma^z_l + \\sum_h h^z_j \\sigma^z_j $$.\n",
    "\n",
    "\n",
    "We have to add a quantum term describing the action of a magnetic field in the $x-$direction. Overall, the time dependent Hamiltonian that we aim to implement is:\n",
    "\n",
    "$$ H(t) = h \\sum_j \\sigma^x_j  + g(t) \\left( \\frac{1}{2} \\sum_{j,k} J_{j k} \\sigma^z_j \\sigma^z_l + \\sum_h h^z_j \\sigma^z_j  \\right)$$\n",
    "\n",
    "The field $h$ is kept constant. The parameter $g(t)$ controls the interaction strength and it is increased from $g(0) = 0$ to $g(T) = g_f$, with $g_f$  large enough such that the z-z interactions have a dominant effect in determining the ground state of the Hamiltonian. We will fix later the functional form of $g(t)$.\n",
    "\n",
    "The initial quantum state of the spin system is the ground state of $H(t = 0)$,\n",
    "\n",
    "\\begin{eqnarray}\n",
    "| \\psi(0) \\rangle &=& \\frac{1}{2^{n/2}} \\bigotimes_j \\left( |0\\rangle_j + | 1 \\rangle_j \\right) = \n",
    "\\nonumber \\\\\n",
    "               &=&   \\bigotimes_j H_j |0\\rangle_j  .\n",
    "\\end{eqnarray}\n",
    "\n",
    "where we have assumed that $h < 0$ and in the last step we have used the fact that the initial state can be created by means of $n$ Hadamard gates."
   ]
  },
  {
   "cell_type": "code",
   "execution_count": 4,
   "metadata": {},
   "outputs": [],
   "source": [
    "#initialization\n",
    "import matplotlib.pyplot as plt\n",
    "%matplotlib inline\n",
    "import numpy as np\n",
    "import math\n",
    "\n",
    "# importing Qiskit\n",
    "from qiskit import IBMQ, BasicAer\n",
    "from qiskit.providers.ibmq import least_busy\n",
    "from qiskit import QuantumCircuit, ClassicalRegister, QuantumRegister, execute\n",
    "\n",
    "# import basic plot tools\n",
    "from qiskit.tools.visualization import plot_histogram"
   ]
  },
  {
   "cell_type": "markdown",
   "metadata": {},
   "source": [
    "## Define gates\n",
    "\n",
    "We start by defining gates. Although this is simple, one has to dedicate some time to come up with an implementation of the Ising interaction gate. If you consider qubits 1 and 2, for example, the gate that we need would act like this:\n",
    "\n",
    "$$ U_{Ising}(\\alpha) =  e^{-i \\alpha \\sigma^z_1 \\sigma^z_2}$$\n",
    "\n",
    "In a quantum annealing algorithm, $\\alpha = J(t) \\Delta t$, with $J(t)$ the interaction at time $t$ and $\\Delta t$ the time step used in the Trotterization. We also define gates implementing the magnetic fields and the the initialization circuit. For this we use rotation matrices. The quantum evolution induced by the magnetic field in the $x$-direction is implemented with a gate of the form  \n",
    "\n",
    "$$ Rx(\\theta) = e^{i (\\theta/2) \\sigma^x }$$\n",
    "\n",
    "whereas the magnetic field in the $z$-direction is implemented by the gate\n",
    "\n",
    "$$ Rz(\\theta) = e^{i (\\theta/2) \\sigma^z }$$"
   ]
  },
  {
   "cell_type": "code",
   "execution_count": 5,
   "metadata": {},
   "outputs": [],
   "source": [
    "def ising_gate(circuit,qrj,qrl,Jt):\n",
    "    circuit.cx(qrj,qrl)\n",
    "    circuit.u1(-2*Jt,qrl)\n",
    "    circuit.cx(qrj,qrl)  "
   ]
  },
  {
   "cell_type": "markdown",
   "metadata": {},
   "source": [
    "### * Exercise 1: \n",
    "\n",
    "Using pen and paper, show that this \"ising_gate\" is equivalent to the unitary operation $U_{Ising}$ defined above."
   ]
  },
  {
   "cell_type": "markdown",
   "metadata": {},
   "source": [
    "Below we also add definitions for circuits implementing the Trotter steps corresponding to the action of the magnetic fields acting on the qubits in the x and z directions."
   ]
  },
  {
   "cell_type": "code",
   "execution_count": 6,
   "metadata": {},
   "outputs": [],
   "source": [
    "def fieldx_gate(circuit,qrj,Bt):\n",
    "    # We use rotation around x \n",
    "    circuit.rx(-2*Bt,qrj)\n",
    "\n",
    "def fieldz_gate(circuit,qrj,Bt):\n",
    "    circuit.rz(-2*Bt,qrj)"
   ]
  },
  {
   "cell_type": "code",
   "execution_count": 7,
   "metadata": {},
   "outputs": [],
   "source": [
    "def initialize_qa(circuit,qr):\n",
    "    circuit.h(qr)"
   ]
  },
  {
   "cell_type": "code",
   "execution_count": 8,
   "metadata": {},
   "outputs": [],
   "source": [
    "qr = QuantumRegister(2)\n",
    "cr = QuantumRegister(2)\n",
    "circuit = QuantumCircuit(qr)\n",
    "initialize_qa(circuit,qr)\n",
    "ising_gate(circuit,qr[0],qr[1],1)\n",
    "fieldx_gate(circuit,qr,1)"
   ]
  },
  {
   "cell_type": "markdown",
   "metadata": {},
   "source": [
    "The following picture is a visualization te initialization + Ising gate + rotations around x, lead to the following circuit. \n",
    "\n",
    "The initialization step consists of a series of Hadamard gates that prepare the state \n",
    "\n",
    "$| \\psi(0) \\rangle = \\frac{1}{2^{n/2}} \\bigotimes_j \\left( |0\\rangle_j + | 1 \\rangle_j \\right) = \\bigotimes_j H_j |0\\rangle_j $\n",
    "\n",
    "Then we have an Ising gate, and finally a rotation around x (corresponding to the action of a magnetic field in the x-direction)"
   ]
  },
  {
   "cell_type": "code",
   "execution_count": 9,
   "metadata": {},
   "outputs": [
    {
     "data": {
      "image/png": "[encoded data removed]",
      "text/plain": [
       "<Figure size 468.356x144.48 with 1 Axes>"
      ]
     },
     "execution_count": 9,
     "metadata": {},
     "output_type": "execute_result"
    }
   ],
   "source": [
    "circuit.draw(output='mpl')"
   ]
  },
  {
   "cell_type": "markdown",
   "metadata": {},
   "source": [
    "### *  Exercise 2 \n",
    "\n",
    "Write down a circuit and run it to check numerically that the ising_gate function defined above really works. You can take as a starting point the circuit above. You could, for example, predict the output of such circuit under different combinations of gates and checke that the final measurement agrees with your calculation."
   ]
  },
  {
   "cell_type": "markdown",
   "metadata": {},
   "source": [
    "## Quantum annealing circuit"
   ]
  },
  {
   "cell_type": "markdown",
   "metadata": {},
   "source": [
    "Ideally, our quantum annealing algorithm would work by implementing the following quantum dynamics,\n",
    "\n",
    "\\begin{equation}\n",
    "|\\psi(t) \\rangle = U_{qa} |\\psi(t) \\rangle =\n",
    "Texp  \\left( -i \\int_0^T \\left( h \\sum_{j} \\sigma^x_j + g(t) H_{ising} \\right) \\right) |\\psi(0) \\rangle\n",
    "\\end{equation}\n",
    "\n",
    "We have to Trotterize this expression by using an approximation of the form\n",
    "\n",
    "$$e^{-i H(t_1) \\Delta t - i H(t_2) \\Delta t } \\approx  e^{-i H(t_1) \\Delta t} e^{- i H(t_2) \\Delta t }, $$\n",
    "\n",
    "which holds as long as $| [ H(t_1) , H(t_2) ]| \\Delta t \\ll 1$.\n",
    "\n",
    "To make things easy, let us choose energy units such that $h = 1$. We will also assume that Ising couplings are of the order of $1$. (More strictly, we have to assume that $\\sum_j J_{j k} \\ll 1$, that is, if you take the matrix $J$, then column-wise summations are of order of 1 or less). Note that, since $J_{jk}$ is multiplied by $g$, the coupling matrix can always be normalized to satisfy this condition and the extra factor be absorbed in $g$.\n",
    "\n",
    "Finally we have to choose $g(t)$, which has to interpolate between $g(0) = 0$ and some value $g \\gg 1$ over the duration of the quantum annealing evolution, $T$. We choose an exponential evolution of the form,\n",
    "\n",
    "$$ \n",
    "g(t) = g_0 \\left( 1 - e^{- t/T} \\right) .\n",
    "$$\n",
    "\n",
    "The value $1/T$ is chosen so that at time $t = T$, $g = g_0 (1/e)$. As a value of $g_0$ we can choose $g_0 = 5$ or $10$, so that the interaction term is much larger than the magnetic field term at the end of the evolution.\n",
    "\n",
    "Finally, we have to deal with Trotterization. For this we need to choose a number of steps $N_{steps}$, such that the time step can be obtained from the total time\n",
    "\n",
    "$$\n",
    "\\Delta t = \\frac{T}{N_{steps}}\n",
    "$$\n",
    "\n",
    "Putting all together, the circuit that we need to implement is\n",
    "\n",
    "\\begin{equation}\n",
    "U_{qa} = \\prod_{j=1}^{N_{steps}} \n",
    "\\left( \n",
    "e^{- i \\ h  \\sum_j \\sigma^x_j} e^{- i \\ g(t_n) H_{ising}}.\n",
    "\\right)\n",
    "\\end{equation}\n",
    "\n",
    "\n",
    "\n",
    "### * Exercise 3: \n",
    "Compose a circuit that implements the quantum annealing dynamics. (If this is too difficult, just be creative and try to find out a way to use the Ising interaction for something interesting, e.g. creating entangled states)\n",
    "\n",
    "\n",
    "### * Exercise 4: \n",
    "Use your quantum circuit simulator to study the efficiency of quantum annealing with respect to, for example, the ramp time."
   ]
  }
 ],
 "metadata": {
  "kernelspec": {
   "display_name": "Python 3",
   "language": "python",
   "name": "python3"
  },
  "language_info": {
   "codemirror_mode": {
    "name": "ipython",
    "version": 3
   },
   "file_extension": ".py",
   "mimetype": "text/x-python",
   "name": "python",
   "nbconvert_exporter": "python",
   "pygments_lexer": "ipython3",
   "version": "3.7.4"
  }
 },
 "nbformat": 4,
 "nbformat_minor": 4
}
