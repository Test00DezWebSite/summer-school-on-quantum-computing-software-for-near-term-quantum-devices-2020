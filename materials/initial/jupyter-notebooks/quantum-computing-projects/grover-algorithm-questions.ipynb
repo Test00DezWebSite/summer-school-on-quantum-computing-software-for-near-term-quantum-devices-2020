{
 "cells": [
  {
   "cell_type": "markdown",
   "metadata": {},
   "source": [
    "# Grover's algorithm and Quantum Search with N = 2,3,4 qubits\n",
    "\n",
    "This excercise deals with the implementation of Grover's algorithm with Qiskit. We will consider $n = 2, 3, 4$ qubits, which allows to deal with $2^n$ entries.\n",
    "\n",
    "A nice explanation of the algorithm and its implementation with Qiskit can be found here:\n",
    "\n",
    "https://qiskit.org/textbook/ch-algorithms/grover.html\n",
    "\n",
    "This notebook builds on the documentation above. It has moslty a pedagogical value: it helps clarifying the main working principles of the algorithm, as well as the difficulties found when implementing Oracle and Inversion operators in practice. \n",
    "\n",
    "The Grover's algorithm will be also explained in Diego Porras' lecture on the first school day. This algorithm relies on the application of the Grover operator,\n",
    "\n",
    "$$\n",
    "G = (2 |\\psi\\rangle \\langle \\psi | - I) O\n",
    "$$\n",
    "\n",
    "where $O$ is the so-called oracle operator, and $(2 |\\psi\\rangle \\langle \\psi | - I)$ is the inversion operator. The joint action of those operators lead to the amplitude amplification effect that is the basis for quantum search.\n",
    "\n",
    "To fully understand the algorithm, you can either wait for Diego's talk, or read the qiskit documentation above. The basis of the algorithm is the multi-qubit controlled-Z gate, which is somehow independent of the details of Grover's algorithm."
   ]
  },
  {
   "cell_type": "code",
   "execution_count": 4,
   "metadata": {},
   "outputs": [],
   "source": [
    "#initialization\n",
    "import matplotlib.pyplot as plt\n",
    "%matplotlib inline\n",
    "import numpy as np\n",
    "import math\n",
    "\n",
    "# importing Qiskit\n",
    "from qiskit import IBMQ, BasicAer\n",
    "from qiskit.providers.ibmq import least_busy\n",
    "from qiskit import QuantumCircuit, ClassicalRegister, QuantumRegister, execute\n",
    "\n",
    "# import basic plot tools\n",
    "from qiskit.tools.visualization import plot_histogram"
   ]
  },
  {
   "cell_type": "markdown",
   "metadata": {},
   "source": [
    "## The multi-qubit controlled-Z gate\n",
    "\n",
    "The backbone of Grover's alrogithm is the multi-quibt controlled-Z gate. This is a gate that carries out the following quantum operation:\n",
    "\n",
    "$$U^{[n]}_{mqZ} = -2 |1 1 1 1 \\dots 1 \\rangle \\langle 1 1 1 1 \\dots 1 | + \\mathbf{I}.$$\n",
    "\n",
    "It is generally a quite complex task to build such a gate. We will see below examples with $n = 2$, $3$, $4$ qubits. In the book by Nielsen and Chuang, page 184, they show a general procedure to build this multi-qubit gate in general with Toffoli gates and additional ancilla (extra) qubits. Here we will avoid the use of extra qubits.\n",
    "\n",
    "Note that $U^{[n]}_{mqZ}$ multiplies a quantums state conditioned to all qubits being in state $|1\\rangle$. This operation is not trivial at all and it is difficult to scale to many-qubits. \n",
    "\n",
    "Remember that Grover's algorithm does require in fact a slightly different operator to be used as inversion operator:\n",
    "\n",
    "$$U_{inv} = -2 |0 0 0 \\dots 0 \\rangle \\langle 0 0 0 \\dots 0 | + \\mathbf{I}$$\n",
    "\n",
    "We can easliy express $U_{inv}$ in terms of $U_{mqZ}$ by using X-gates, which just swap $|0\\rangle$ and $|1\\rangle$:\n",
    "\n",
    "$$U_{inv} = X^{\\otimes n} U_{mqZ} X^{\\otimes n}$$\n",
    "\n",
    "The cases with $n = 2$, $3$ are quite simple. $n = 2$ is the usual controlled-Z gate. Let us define a function that implements this quantum circuit:"
   ]
  },
  {
   "cell_type": "code",
   "execution_count": 5,
   "metadata": {},
   "outputs": [
    {
     "data": {
      "image/png": "[encoded data removed]",
      "text/plain": [
       "<Figure size 347.956x144.48 with 1 Axes>"
      ]
     },
     "execution_count": 5,
     "metadata": {},
     "output_type": "execute_result"
    }
   ],
   "source": [
    "def cz(circuit,qr):\n",
    "    circuit.h(qr[1])\n",
    "    circuit.cx(qr[0],qr[1])\n",
    "    circuit.h(qr[1])\n",
    "    \n",
    "qr2 = QuantumRegister(2)\n",
    "czCircuit = QuantumCircuit(qr2)\n",
    "cz(czCircuit,qr2)\n",
    "czCircuit.draw(output=\"mpl\")"
   ]
  },
  {
   "cell_type": "markdown",
   "metadata": {},
   "source": [
    "The case $n = 3$ can be easily build with the so called Toffoli gate:"
   ]
  },
  {
   "cell_type": "code",
   "execution_count": 6,
   "metadata": {},
   "outputs": [
    {
     "data": {
      "image/png": "[encoded data removed]",
      "text/plain": [
       "<Figure size 347.956x204.68 with 1 Axes>"
      ]
     },
     "execution_count": 6,
     "metadata": {},
     "output_type": "execute_result"
    }
   ],
   "source": [
    "def ccz(circuit,qr):\n",
    "    circuit.h(qr[2])\n",
    "    # ccx is the Toffoli gate \n",
    "    circuit.ccx(qr[0], qr[1], qr[2])\n",
    "    circuit.h(qr[2])\n",
    "    \n",
    "qr3 = QuantumRegister(3)\n",
    "cczCircuit = QuantumCircuit(qr3)\n",
    "ccz(cczCircuit,qr3)\n",
    "cczCircuit.draw(output=\"mpl\")"
   ]
  },
  {
   "cell_type": "markdown",
   "metadata": {},
   "source": [
    "The case $n = 4$ is more difficult. We will use an implementation that only uses Controlled NOT gates and phase gates"
   ]
  },
  {
   "cell_type": "code",
   "execution_count": 7,
   "metadata": {},
   "outputs": [
    {
     "data": {
      "image/png": "[encoded data removed]",
      "text/plain": [
       "<Figure size 949.956x264.88 with 1 Axes>"
      ]
     },
     "execution_count": 7,
     "metadata": {},
     "output_type": "execute_result"
    }
   ],
   "source": [
    "def cccz(circuit,qr):\n",
    "    pi = math.pi\n",
    "    circuit.cu1(pi/4,qr[0],qr[3])\n",
    "    circuit.cx(qr[0], qr[1])\n",
    "    circuit.cu1(-pi/4, qr[1],qr[3])\n",
    "    circuit.cx(qr[0], qr[1])\n",
    "    circuit.cu1(pi/4, qr[1],qr[3])\n",
    "    circuit.cx(qr[1], qr[2])\n",
    "    circuit.cu1(-pi/4, qr[2],qr[3])\n",
    "    circuit.cx(qr[0], qr[2])\n",
    "    circuit.cu1(pi/4, qr[2],qr[3])\n",
    "    circuit.cx(qr[1], qr[2])\n",
    "    circuit.cu1(-pi/4, qr[2],qr[3])\n",
    "    circuit.cx(qr[0], qr[2])\n",
    "    circuit.cu1(pi/4, qr[2],qr[3])\n",
    "\n",
    "qr4 = QuantumRegister(4)\n",
    "ccczCircuit = QuantumCircuit(qr4)\n",
    "cccz(ccczCircuit,qr4)\n",
    "ccczCircuit.draw(output=\"mpl\")"
   ]
  },
  {
   "cell_type": "markdown",
   "metadata": {},
   "source": [
    "Below we define a multiqubit controlled-Z gate for N = 2,3,4 ions. The function counts the number of control qubits."
   ]
  },
  {
   "cell_type": "code",
   "execution_count": 8,
   "metadata": {},
   "outputs": [],
   "source": [
    "def n_controlled_Z(circuit, qr):\n",
    "    \"\"\"Implement a Z gate with multiple controls\"\"\"\n",
    "    if (len(qr) > 4):\n",
    "        raise ValueError('The controlled Z with more than 3 controls is not implemented')\n",
    "    # This is the case n = 2 (1 control + 1 target qubit)\n",
    "    elif (len(qr) == 2):\n",
    "        cz(circuit,qr)\n",
    "    # This is the case n = 3 (2 control + 1 target qubit)\n",
    "    elif (len(qr) == 3):\n",
    "        ccz(circuit,qr)\n",
    "        # This is the case n = 4 (3 control + 1 target qubit)\n",
    "    elif (len(qr) == 4):\n",
    "        cccz(circuit,qr)"
   ]
  },
  {
   "cell_type": "markdown",
   "metadata": {},
   "source": [
    "###    * Excercise 1\n",
    "Check out that the above definitions really implement the multi-quit controlled-Z gate. In the cases $n = 2, 3$, you can show it explicitly with pen and paper, or just by checking with Qiskit how the function acts on different input states. The case $n = 4$ is more complicated and we recommend that you just check it numerically."
   ]
  },
  {
   "cell_type": "markdown",
   "metadata": {},
   "source": [
    "## Implementing the phase oracle circuit\n",
    "\n",
    "An oracle is a circuit that \"detects\" one of the possible states of the computer (the searched elemetn) and changes the sign of the wavefunction, if the system is that state.\n",
    "\n",
    "This opearation is implemented by the function \"phase_oracle\", which defines an oracle unitary transformation that multiplies a state with $(-1)$ sign only if the state corresponds to a certain database entry $s_1 s_2 s_3 s_4$. The state is selected by the argument \"element\", which is a vector of numbers that defines the databse that the algorithm is searching for (e.g. element = $[0,0,1,0]$).\n",
    "\n",
    "Basically, the function implements the unitary transformation.\n",
    "\n",
    "$$ | x \\rangle \\to | x \\rangle \\ \\ {\\rm if } x \\neq element$$\n",
    "\n",
    "$$ | x \\rangle \\to - |x \\rangle \\ \\ {\\rm if} x = element $$\n",
    "\n",
    "The function relies on the multiqubit contolled z-gate defined above. Remember, the latter adds a sign as long as $s = |1111\\rangle$. What we have to do is just to flip qubits depending on the particular search term $s$, apply the multiqubit controlled gate, then undo the spin flips:\n",
    "\n",
    "$$\n",
    "U_{oracle} = \\bigotimes_j X^{1 + s_j} U_{mqZ} \\bigotimes_j X^{1 + s_j}\n",
    "$$"
   ]
  },
  {
   "cell_type": "code",
   "execution_count": 9,
   "metadata": {},
   "outputs": [],
   "source": [
    "def phase_oracle(circuit,qr,element):\n",
    "    # element is an array that defines the searched element, for example, element =  [0,1,0,1]\n",
    "    n = len(element)\n",
    "    for j,x in enumerate(element):\n",
    "        if (x == 0):\n",
    "            circuit.x(qr[j])\n",
    "    n_controlled_Z(circuit,qr) \n",
    "    for j,x in enumerate(element):\n",
    "        if (x == 0):\n",
    "            circuit.x(qr[j])"
   ]
  },
  {
   "cell_type": "markdown",
   "metadata": {},
   "source": [
    "###    * Excercise 2\n",
    "Check whether this function acts as expected. (Hint: you could, for example, make some rotation on one of the qubits depend on whether the wavefunction gets the right sign or not. Thus, when you measure the final state, you will detect whether the right sign has been added by looking at the output.)"
   ]
  },
  {
   "cell_type": "markdown",
   "metadata": {},
   "source": [
    "## Implementation of the inversion operator\n",
    "\n",
    "The function below implements the inversion unitary, which is the second part of the Grover operator. \n",
    "This function is a reflection around the state $|\\psi\\rangle$, that is defined as:\n",
    "\n",
    "$$|\\psi\\rangle = H^{\\otimes n} |0\\rangle_1 |0\\rangle_2 \\dots |0\\rangle_n = \\frac{1}{\\sqrt{2^n}} \n",
    "\\sum_{s_1,\\dots,s_n} |s_1 \\rangle \\dots  |s_n \\rangle $$\n",
    "\n",
    "(see Diego's talk or this [webpage](https://qiskit.org/textbook/ch-algorithms/grover.html) )\n",
    "The inversion is implemented by the following unitary\n",
    "\n",
    "$$U_{inv} = H^{\\otimes n} (-2 |00 \\dots 00\\rangle \\langle 00 \\dots 00 | + {\\mathbf I}) H^{\\otimes n}$$\n",
    "\n",
    "As you can see, it is basically identically to the multi-qubit controlled-Z gate that we introduced above. "
   ]
  },
  {
   "cell_type": "code",
   "execution_count": 10,
   "metadata": {},
   "outputs": [],
   "source": [
    "def inversion_about_average(circuit, register, n):\n",
    "    \"\"\"Apply inversion about the average step of Grover's algorithm.\"\"\"\n",
    "    circuit.h(register)\n",
    "    circuit.x(register)\n",
    "    n_controlled_Z(circuit, qr)\n",
    "    circuit.x(register)\n",
    "    circuit.h(register)"
   ]
  },
  {
   "cell_type": "code",
   "execution_count": 11,
   "metadata": {},
   "outputs": [
    {
     "data": {
      "image/png": "[encoded data removed]",
      "text/plain": [
       "<Figure size 1250.96x264.88 with 1 Axes>"
      ]
     },
     "execution_count": 11,
     "metadata": {},
     "output_type": "execute_result"
    }
   ],
   "source": [
    "#Let's plot it!\n",
    "qr = QuantumRegister(4)\n",
    "qAverage = QuantumCircuit(qr)\n",
    "inversion_about_average(qAverage, qr, 4)\n",
    "qAverage.draw(output='mpl')"
   ]
  },
  {
   "cell_type": "markdown",
   "metadata": {},
   "source": [
    "## Implementation of Grover's algorithm\n",
    "\n",
    "We are in a position now to implement Grover's algorithm. We can tune the parameter $R$ = number of applications of the Grover transformation and $N = 2,3,4$ qubits"
   ]
  },
  {
   "cell_type": "markdown",
   "metadata": {},
   "source": [
    "### * Excercise 3 \n",
    "Use the subroutines above and write down a quantum circuit that implements Grover's algorithm with $n = 2, 3, 4$ qubits, and a given number of repetitions $R$, and searched element $= [s_1, s_2, \\dots]$"
   ]
  },
  {
   "cell_type": "markdown",
   "metadata": {},
   "source": [
    "### * Excercise 4\n",
    "\n",
    "Explore aspects of the Grover algorithm such as the efficiency as a funciton of the number of repetions, $R$, or the number of measurements that you need to carry out to measure the searched element."
   ]
  }
 ],
 "metadata": {
  "kernelspec": {
   "display_name": "Python 3",
   "language": "python",
   "name": "python3"
  },
  "language_info": {
   "codemirror_mode": {
    "name": "ipython",
    "version": 3
   },
   "file_extension": ".py",
   "mimetype": "text/x-python",
   "name": "python",
   "nbconvert_exporter": "python",
   "pygments_lexer": "ipython3",
   "version": "3.7.4"
  }
 },
 "nbformat": 4,
 "nbformat_minor": 2
}
